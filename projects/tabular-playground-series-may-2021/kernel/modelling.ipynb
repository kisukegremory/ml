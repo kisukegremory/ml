{
 "cells": [
  {
   "cell_type": "code",
   "execution_count": 10,
   "id": "ed77442c",
   "metadata": {},
   "outputs": [
    {
     "data": {
      "text/html": [
       "<div>\n",
       "<style scoped>\n",
       "    .dataframe tbody tr th:only-of-type {\n",
       "        vertical-align: middle;\n",
       "    }\n",
       "\n",
       "    .dataframe tbody tr th {\n",
       "        vertical-align: top;\n",
       "    }\n",
       "\n",
       "    .dataframe thead th {\n",
       "        text-align: right;\n",
       "    }\n",
       "</style>\n",
       "<table border=\"1\" class=\"dataframe\">\n",
       "  <thead>\n",
       "    <tr style=\"text-align: right;\">\n",
       "      <th></th>\n",
       "      <th>id</th>\n",
       "      <th>feature_0</th>\n",
       "      <th>feature_1</th>\n",
       "      <th>feature_2</th>\n",
       "      <th>feature_3</th>\n",
       "      <th>feature_4</th>\n",
       "      <th>feature_5</th>\n",
       "      <th>feature_6</th>\n",
       "      <th>feature_7</th>\n",
       "      <th>feature_8</th>\n",
       "      <th>...</th>\n",
       "      <th>feature_41</th>\n",
       "      <th>feature_42</th>\n",
       "      <th>feature_43</th>\n",
       "      <th>feature_44</th>\n",
       "      <th>feature_45</th>\n",
       "      <th>feature_46</th>\n",
       "      <th>feature_47</th>\n",
       "      <th>feature_48</th>\n",
       "      <th>feature_49</th>\n",
       "      <th>target</th>\n",
       "    </tr>\n",
       "  </thead>\n",
       "  <tbody>\n",
       "    <tr>\n",
       "      <th>0</th>\n",
       "      <td>0</td>\n",
       "      <td>0</td>\n",
       "      <td>0</td>\n",
       "      <td>1</td>\n",
       "      <td>0</td>\n",
       "      <td>1</td>\n",
       "      <td>0</td>\n",
       "      <td>0</td>\n",
       "      <td>0</td>\n",
       "      <td>0</td>\n",
       "      <td>...</td>\n",
       "      <td>0</td>\n",
       "      <td>0</td>\n",
       "      <td>21</td>\n",
       "      <td>0</td>\n",
       "      <td>0</td>\n",
       "      <td>0</td>\n",
       "      <td>0</td>\n",
       "      <td>0</td>\n",
       "      <td>0</td>\n",
       "      <td>Class_2</td>\n",
       "    </tr>\n",
       "    <tr>\n",
       "      <th>1</th>\n",
       "      <td>1</td>\n",
       "      <td>0</td>\n",
       "      <td>0</td>\n",
       "      <td>0</td>\n",
       "      <td>0</td>\n",
       "      <td>2</td>\n",
       "      <td>1</td>\n",
       "      <td>0</td>\n",
       "      <td>0</td>\n",
       "      <td>0</td>\n",
       "      <td>...</td>\n",
       "      <td>0</td>\n",
       "      <td>0</td>\n",
       "      <td>0</td>\n",
       "      <td>0</td>\n",
       "      <td>0</td>\n",
       "      <td>0</td>\n",
       "      <td>0</td>\n",
       "      <td>0</td>\n",
       "      <td>0</td>\n",
       "      <td>Class_1</td>\n",
       "    </tr>\n",
       "  </tbody>\n",
       "</table>\n",
       "<p>2 rows × 52 columns</p>\n",
       "</div>"
      ],
      "text/plain": [
       "   id  feature_0  feature_1  feature_2  feature_3  feature_4  feature_5  \\\n",
       "0   0          0          0          1          0          1          0   \n",
       "1   1          0          0          0          0          2          1   \n",
       "\n",
       "   feature_6  feature_7  feature_8  ...  feature_41  feature_42  feature_43  \\\n",
       "0          0          0          0  ...           0           0          21   \n",
       "1          0          0          0  ...           0           0           0   \n",
       "\n",
       "   feature_44  feature_45  feature_46  feature_47  feature_48  feature_49  \\\n",
       "0           0           0           0           0           0           0   \n",
       "1           0           0           0           0           0           0   \n",
       "\n",
       "    target  \n",
       "0  Class_2  \n",
       "1  Class_1  \n",
       "\n",
       "[2 rows x 52 columns]"
      ]
     },
     "execution_count": 10,
     "metadata": {},
     "output_type": "execute_result"
    }
   ],
   "source": [
    "import pandas as pd\n",
    "train = pd.read_csv('../tmp/data/train.csv')\n",
    "test = pd.read_csv('../tmp/data/test.csv')\n",
    "sub = pd.read_csv('../tmp/data/sample_submission.csv')\n",
    "#df.set_index('id',inplace=True)\n",
    "train.head(2)"
   ]
  },
  {
   "cell_type": "code",
   "execution_count": 2,
   "id": "f3ced37d",
   "metadata": {},
   "outputs": [],
   "source": [
    "targets = train['target']\n",
    "features = train.drop(columns = ['id','target'])"
   ]
  },
  {
   "cell_type": "code",
   "execution_count": 3,
   "id": "0ce17cf1",
   "metadata": {},
   "outputs": [
    {
     "data": {
      "text/plain": [
       "array([1, 0, 0, ..., 2, 1, 2])"
      ]
     },
     "execution_count": 3,
     "metadata": {},
     "output_type": "execute_result"
    }
   ],
   "source": [
    "from sklearn.preprocessing import LabelEncoder \n",
    "le = LabelEncoder()\n",
    "targets = le.fit_transform(targets)\n",
    "targets"
   ]
  },
  {
   "cell_type": "code",
   "execution_count": 4,
   "id": "ad403a56",
   "metadata": {},
   "outputs": [],
   "source": [
    "from sklearn.model_selection import train_test_split\n",
    "xtrain, xtest, ytrain, ytest = train_test_split(features.values, targets, test_size = 0.1, shuffle = True, random_state = 44)"
   ]
  },
  {
   "cell_type": "code",
   "execution_count": 5,
   "id": "8d370f2b",
   "metadata": {
    "scrolled": true
   },
   "outputs": [
    {
     "name": "stderr",
     "output_type": "stream",
     "text": [
      "\u001b[32m[I 2021-05-19 20:55:26,186]\u001b[0m A new study created in memory with name: no-name-46a1fad6-6e60-40dd-a2ff-e6e8d0b2ae88\u001b[0m\n",
      "feature_fraction, val_score: inf:   0%|                                                          | 0/7 [00:00<?, ?it/s]"
     ]
    },
    {
     "name": "stdout",
     "output_type": "stream",
     "text": [
      "Training until validation scores don't improve for 100 rounds\n",
      "[100]\tvalid_0's multi_logloss: 1.10265\n",
      "[200]\tvalid_0's multi_logloss: 1.10421\n"
     ]
    },
    {
     "name": "stderr",
     "output_type": "stream",
     "text": [
      "feature_fraction, val_score: 1.102217:  14%|######4                                      | 1/7 [00:06<00:41,  6.98s/it]\u001b[32m[I 2021-05-19 20:55:33,177]\u001b[0m Trial 0 finished with value: 1.1022166010140535 and parameters: {'feature_fraction': 0.5}. Best is trial 0 with value: 1.1022166010140535.\u001b[0m\n",
      "feature_fraction, val_score: 1.102217:  14%|######4                                      | 1/7 [00:06<00:41,  6.98s/it]"
     ]
    },
    {
     "name": "stdout",
     "output_type": "stream",
     "text": [
      "Early stopping, best iteration is:\n",
      "[122]\tvalid_0's multi_logloss: 1.10222\n",
      "Training until validation scores don't improve for 100 rounds\n",
      "[100]\tvalid_0's multi_logloss: 1.10327\n"
     ]
    },
    {
     "name": "stderr",
     "output_type": "stream",
     "text": [
      "feature_fraction, val_score: 1.102217:  29%|############8                                | 2/7 [00:11<00:27,  5.58s/it]\u001b[32m[I 2021-05-19 20:55:37,775]\u001b[0m Trial 1 finished with value: 1.1031080092124397 and parameters: {'feature_fraction': 0.6}. Best is trial 0 with value: 1.1022166010140535.\u001b[0m\n",
      "feature_fraction, val_score: 1.102217:  29%|############8                                | 2/7 [00:11<00:27,  5.58s/it]"
     ]
    },
    {
     "name": "stdout",
     "output_type": "stream",
     "text": [
      "Early stopping, best iteration is:\n",
      "[94]\tvalid_0's multi_logloss: 1.10311\n",
      "Training until validation scores don't improve for 100 rounds\n",
      "[100]\tvalid_0's multi_logloss: 1.10382\n"
     ]
    },
    {
     "name": "stderr",
     "output_type": "stream",
     "text": [
      "feature_fraction, val_score: 1.102217:  43%|###################2                         | 3/7 [00:14<00:17,  4.30s/it]\u001b[32m[I 2021-05-19 20:55:40,554]\u001b[0m Trial 2 finished with value: 1.1036365979400224 and parameters: {'feature_fraction': 0.8}. Best is trial 0 with value: 1.1022166010140535.\u001b[0m\n",
      "feature_fraction, val_score: 1.102217:  43%|###################2                         | 3/7 [00:14<00:17,  4.30s/it]"
     ]
    },
    {
     "name": "stdout",
     "output_type": "stream",
     "text": [
      "Early stopping, best iteration is:\n",
      "[88]\tvalid_0's multi_logloss: 1.10364\n",
      "Training until validation scores don't improve for 100 rounds\n",
      "[100]\tvalid_0's multi_logloss: 1.10368\n"
     ]
    },
    {
     "name": "stderr",
     "output_type": "stream",
     "text": [
      "feature_fraction, val_score: 1.102217:  57%|#########################7                   | 4/7 [00:17<00:11,  3.69s/it]\u001b[32m[I 2021-05-19 20:55:43,316]\u001b[0m Trial 3 finished with value: 1.1034232452029973 and parameters: {'feature_fraction': 0.8999999999999999}. Best is trial 0 with value: 1.1022166010140535.\u001b[0m\n",
      "feature_fraction, val_score: 1.102217:  57%|#########################7                   | 4/7 [00:17<00:11,  3.69s/it]"
     ]
    },
    {
     "name": "stdout",
     "output_type": "stream",
     "text": [
      "Early stopping, best iteration is:\n",
      "[68]\tvalid_0's multi_logloss: 1.10342\n",
      "Training until validation scores don't improve for 100 rounds\n",
      "[100]\tvalid_0's multi_logloss: 1.1031\n"
     ]
    },
    {
     "name": "stderr",
     "output_type": "stream",
     "text": [
      "feature_fraction, val_score: 1.102217:  71%|################################1            | 5/7 [00:23<00:09,  4.65s/it]\u001b[32m[I 2021-05-19 20:55:49,679]\u001b[0m Trial 4 finished with value: 1.1029038686451844 and parameters: {'feature_fraction': 0.4}. Best is trial 0 with value: 1.1022166010140535.\u001b[0m\n",
      "feature_fraction, val_score: 1.102217:  71%|################################1            | 5/7 [00:23<00:09,  4.65s/it]"
     ]
    },
    {
     "name": "stdout",
     "output_type": "stream",
     "text": [
      "[200]\tvalid_0's multi_logloss: 1.10398\n",
      "Early stopping, best iteration is:\n",
      "[104]\tvalid_0's multi_logloss: 1.1029\n",
      "Training until validation scores don't improve for 100 rounds\n",
      "[100]\tvalid_0's multi_logloss: 1.10372\n",
      "[200]\tvalid_0's multi_logloss: 1.1056\n"
     ]
    },
    {
     "name": "stderr",
     "output_type": "stream",
     "text": [
      "feature_fraction, val_score: 1.102217:  86%|######################################5      | 6/7 [00:26<00:04,  4.23s/it]\u001b[32m[I 2021-05-19 20:55:53,069]\u001b[0m Trial 5 finished with value: 1.1032479014596854 and parameters: {'feature_fraction': 0.7}. Best is trial 0 with value: 1.1022166010140535.\u001b[0m\n",
      "feature_fraction, val_score: 1.102217:  86%|######################################5      | 6/7 [00:26<00:04,  4.23s/it]"
     ]
    },
    {
     "name": "stdout",
     "output_type": "stream",
     "text": [
      "Early stopping, best iteration is:\n",
      "[122]\tvalid_0's multi_logloss: 1.10325\n",
      "Training until validation scores don't improve for 100 rounds\n",
      "[100]\tvalid_0's multi_logloss: 1.10446\n"
     ]
    },
    {
     "name": "stderr",
     "output_type": "stream",
     "text": [
      "feature_fraction, val_score: 1.102217: 100%|#############################################| 7/7 [00:29<00:00,  3.70s/it]\u001b[32m[I 2021-05-19 20:55:55,679]\u001b[0m Trial 6 finished with value: 1.1036688369423924 and parameters: {'feature_fraction': 1.0}. Best is trial 0 with value: 1.1022166010140535.\u001b[0m\n",
      "feature_fraction, val_score: 1.102217: 100%|#############################################| 7/7 [00:29<00:00,  4.21s/it]\n",
      "num_leaves, val_score: 1.102217:   0%|                                                          | 0/20 [00:00<?, ?it/s]"
     ]
    },
    {
     "name": "stdout",
     "output_type": "stream",
     "text": [
      "Early stopping, best iteration is:\n",
      "[59]\tvalid_0's multi_logloss: 1.10367\n",
      "Training until validation scores don't improve for 100 rounds\n",
      "[100]\tvalid_0's multi_logloss: 1.10842\n"
     ]
    },
    {
     "name": "stderr",
     "output_type": "stream",
     "text": [
      "num_leaves, val_score: 1.102217:   5%|##5                                               | 1/20 [00:07<02:21,  7.44s/it]\u001b[32m[I 2021-05-19 20:56:03,129]\u001b[0m Trial 7 finished with value: 1.1040734467619886 and parameters: {'num_leaves': 122}. Best is trial 7 with value: 1.1040734467619886.\u001b[0m\n",
      "num_leaves, val_score: 1.102217:   5%|##5                                               | 1/20 [00:07<02:21,  7.44s/it]"
     ]
    },
    {
     "name": "stdout",
     "output_type": "stream",
     "text": [
      "Early stopping, best iteration is:\n",
      "[50]\tvalid_0's multi_logloss: 1.10407\n",
      "Training until validation scores don't improve for 100 rounds\n",
      "[100]\tvalid_0's multi_logloss: 1.10638\n"
     ]
    },
    {
     "name": "stderr",
     "output_type": "stream",
     "text": [
      "num_leaves, val_score: 1.102217:  10%|#####                                             | 2/20 [00:14<02:15,  7.50s/it]\u001b[32m[I 2021-05-19 20:56:10,675]\u001b[0m Trial 8 finished with value: 1.1035359921692098 and parameters: {'num_leaves': 123}. Best is trial 8 with value: 1.1035359921692098.\u001b[0m\n",
      "num_leaves, val_score: 1.102217:  10%|#####                                             | 2/20 [00:14<02:15,  7.50s/it]"
     ]
    },
    {
     "name": "stdout",
     "output_type": "stream",
     "text": [
      "Early stopping, best iteration is:\n",
      "[54]\tvalid_0's multi_logloss: 1.10354\n",
      "Training until validation scores don't improve for 100 rounds\n",
      "[100]\tvalid_0's multi_logloss: 1.11542\n"
     ]
    },
    {
     "name": "stderr",
     "output_type": "stream",
     "text": [
      "num_leaves, val_score: 1.102217:  15%|#######5                                          | 3/20 [00:22<02:10,  7.70s/it]\u001b[32m[I 2021-05-19 20:56:18,612]\u001b[0m Trial 9 finished with value: 1.1067845991261553 and parameters: {'num_leaves': 209}. Best is trial 8 with value: 1.1035359921692098.\u001b[0m\n",
      "num_leaves, val_score: 1.102217:  15%|#######5                                          | 3/20 [00:22<02:10,  7.70s/it]"
     ]
    },
    {
     "name": "stdout",
     "output_type": "stream",
     "text": [
      "Early stopping, best iteration is:\n",
      "[34]\tvalid_0's multi_logloss: 1.10678\n",
      "Training until validation scores don't improve for 100 rounds\n",
      "[100]\tvalid_0's multi_logloss: 1.11009\n"
     ]
    },
    {
     "name": "stderr",
     "output_type": "stream",
     "text": [
      "num_leaves, val_score: 1.102217:  20%|##########                                        | 4/20 [00:30<02:00,  7.52s/it]\u001b[32m[I 2021-05-19 20:56:25,866]\u001b[0m Trial 10 finished with value: 1.1052978901445354 and parameters: {'num_leaves': 124}. Best is trial 8 with value: 1.1035359921692098.\u001b[0m\n",
      "num_leaves, val_score: 1.102217:  20%|##########                                        | 4/20 [00:30<02:00,  7.52s/it]"
     ]
    },
    {
     "name": "stdout",
     "output_type": "stream",
     "text": [
      "Early stopping, best iteration is:\n",
      "[48]\tvalid_0's multi_logloss: 1.1053\n",
      "Training until validation scores don't improve for 100 rounds\n",
      "[100]\tvalid_0's multi_logloss: 1.10338\n",
      "[200]\tvalid_0's multi_logloss: 1.10193\n"
     ]
    },
    {
     "name": "stderr",
     "output_type": "stream",
     "text": [
      "num_leaves, val_score: 1.101861:  25%|############5                                     | 5/20 [00:37<01:52,  7.52s/it]\u001b[32m[I 2021-05-19 20:56:33,385]\u001b[0m Trial 11 finished with value: 1.1018614080786138 and parameters: {'num_leaves': 8}. Best is trial 11 with value: 1.1018614080786138.\u001b[0m\n",
      "num_leaves, val_score: 1.101861:  25%|############5                                     | 5/20 [00:37<01:52,  7.52s/it]"
     ]
    },
    {
     "name": "stdout",
     "output_type": "stream",
     "text": [
      "Early stopping, best iteration is:\n",
      "[188]\tvalid_0's multi_logloss: 1.10186\n",
      "Training until validation scores don't improve for 100 rounds\n",
      "[100]\tvalid_0's multi_logloss: 1.11263\n"
     ]
    },
    {
     "name": "stderr",
     "output_type": "stream",
     "text": [
      "num_leaves, val_score: 1.101861:  30%|###############                                   | 6/20 [00:45<01:44,  7.47s/it]\u001b[32m[I 2021-05-19 20:56:40,746]\u001b[0m Trial 12 finished with value: 1.107092235205517 and parameters: {'num_leaves': 156}. Best is trial 11 with value: 1.1018614080786138.\u001b[0m\n",
      "num_leaves, val_score: 1.101861:  30%|###############                                   | 6/20 [00:45<01:44,  7.47s/it]"
     ]
    },
    {
     "name": "stdout",
     "output_type": "stream",
     "text": [
      "Early stopping, best iteration is:\n",
      "[35]\tvalid_0's multi_logloss: 1.10709\n",
      "Training until validation scores don't improve for 100 rounds\n",
      "[100]\tvalid_0's multi_logloss: 1.1049\n"
     ]
    },
    {
     "name": "stderr",
     "output_type": "stream",
     "text": [
      "num_leaves, val_score: 1.101861:  35%|#################5                                | 7/20 [00:51<01:32,  7.12s/it]\u001b[32m[I 2021-05-19 20:56:47,149]\u001b[0m Trial 13 finished with value: 1.103960096521639 and parameters: {'num_leaves': 71}. Best is trial 11 with value: 1.1018614080786138.\u001b[0m\n",
      "num_leaves, val_score: 1.101861:  35%|#################5                                | 7/20 [00:51<01:32,  7.12s/it]"
     ]
    },
    {
     "name": "stdout",
     "output_type": "stream",
     "text": [
      "Early stopping, best iteration is:\n",
      "[68]\tvalid_0's multi_logloss: 1.10396\n",
      "Training until validation scores don't improve for 100 rounds\n",
      "[100]\tvalid_0's multi_logloss: 1.10706\n"
     ]
    },
    {
     "name": "stderr",
     "output_type": "stream",
     "text": [
      "num_leaves, val_score: 1.101861:  40%|####################                              | 8/20 [00:58<01:25,  7.16s/it]\u001b[32m[I 2021-05-19 20:56:54,379]\u001b[0m Trial 14 finished with value: 1.1037687482783551 and parameters: {'num_leaves': 129}. Best is trial 11 with value: 1.1018614080786138.\u001b[0m\n",
      "num_leaves, val_score: 1.101861:  40%|####################                              | 8/20 [00:58<01:25,  7.16s/it]"
     ]
    },
    {
     "name": "stdout",
     "output_type": "stream",
     "text": [
      "Early stopping, best iteration is:\n",
      "[52]\tvalid_0's multi_logloss: 1.10377\n",
      "Training until validation scores don't improve for 100 rounds\n",
      "[100]\tvalid_0's multi_logloss: 1.11457\n"
     ]
    },
    {
     "name": "stderr",
     "output_type": "stream",
     "text": [
      "num_leaves, val_score: 1.101861:  45%|######################5                           | 9/20 [01:06<01:21,  7.45s/it]\u001b[32m[I 2021-05-19 20:57:02,484]\u001b[0m Trial 15 finished with value: 1.1069777497288211 and parameters: {'num_leaves': 178}. Best is trial 11 with value: 1.1018614080786138.\u001b[0m\n",
      "num_leaves, val_score: 1.101861:  45%|######################5                           | 9/20 [01:06<01:21,  7.45s/it]"
     ]
    },
    {
     "name": "stdout",
     "output_type": "stream",
     "text": [
      "Early stopping, best iteration is:\n",
      "[39]\tvalid_0's multi_logloss: 1.10698\n",
      "Training until validation scores don't improve for 100 rounds\n",
      "[100]\tvalid_0's multi_logloss: 1.10223\n",
      "[200]\tvalid_0's multi_logloss: 1.10258\n"
     ]
    },
    {
     "name": "stderr",
     "output_type": "stream",
     "text": [
      "num_leaves, val_score: 1.101861:  50%|########################5                        | 10/20 [01:12<01:10,  7.03s/it]\u001b[32m[I 2021-05-19 20:57:08,563]\u001b[0m Trial 16 finished with value: 1.10201806240173 and parameters: {'num_leaves': 18}. Best is trial 11 with value: 1.1018614080786138.\u001b[0m\n",
      "num_leaves, val_score: 1.101861:  50%|########################5                        | 10/20 [01:12<01:10,  7.03s/it]"
     ]
    },
    {
     "name": "stdout",
     "output_type": "stream",
     "text": [
      "Early stopping, best iteration is:\n",
      "[112]\tvalid_0's multi_logloss: 1.10202\n",
      "Training until validation scores don't improve for 100 rounds\n",
      "[100]\tvalid_0's multi_logloss: 1.10391\n",
      "[200]\tvalid_0's multi_logloss: 1.1021\n",
      "[300]\tvalid_0's multi_logloss: 1.10196\n",
      "[400]\tvalid_0's multi_logloss: 1.1015\n"
     ]
    },
    {
     "name": "stderr",
     "output_type": "stream",
     "text": [
      "\r",
      "num_leaves, val_score: 1.101403:  50%|########################5                        | 10/20 [01:25<01:10,  7.03s/it]"
     ]
    },
    {
     "name": "stdout",
     "output_type": "stream",
     "text": [
      "[500]\tvalid_0's multi_logloss: 1.10229\n",
      "Early stopping, best iteration is:\n",
      "[404]\tvalid_0's multi_logloss: 1.1014\n"
     ]
    },
    {
     "name": "stderr",
     "output_type": "stream",
     "text": [
      "num_leaves, val_score: 1.101403:  55%|##########################9                      | 11/20 [01:25<01:19,  8.82s/it]\u001b[32m[I 2021-05-19 20:57:21,459]\u001b[0m Trial 17 finished with value: 1.1014033396099263 and parameters: {'num_leaves': 7}. Best is trial 17 with value: 1.1014033396099263.\u001b[0m\n",
      "num_leaves, val_score: 1.101403:  55%|##########################9                      | 11/20 [01:25<01:19,  8.82s/it]"
     ]
    },
    {
     "name": "stdout",
     "output_type": "stream",
     "text": [
      "Training until validation scores don't improve for 100 rounds\n",
      "[100]\tvalid_0's multi_logloss: 1.10676\n",
      "[200]\tvalid_0's multi_logloss: 1.10349\n",
      "[300]\tvalid_0's multi_logloss: 1.10245\n",
      "[400]\tvalid_0's multi_logloss: 1.10215\n",
      "[500]\tvalid_0's multi_logloss: 1.10193\n",
      "[600]\tvalid_0's multi_logloss: 1.10162\n",
      "[700]\tvalid_0's multi_logloss: 1.10164\n"
     ]
    },
    {
     "name": "stderr",
     "output_type": "stream",
     "text": [
      "num_leaves, val_score: 1.101402:  60%|#############################4                   | 12/20 [01:44<01:35, 11.94s/it]\u001b[32m[I 2021-05-19 20:57:40,509]\u001b[0m Trial 18 finished with value: 1.1014018332506155 and parameters: {'num_leaves': 4}. Best is trial 18 with value: 1.1014018332506155.\u001b[0m\n",
      "num_leaves, val_score: 1.101402:  60%|#############################4                   | 12/20 [01:44<01:35, 11.94s/it]"
     ]
    },
    {
     "name": "stdout",
     "output_type": "stream",
     "text": [
      "Early stopping, best iteration is:\n",
      "[665]\tvalid_0's multi_logloss: 1.1014\n",
      "Training until validation scores don't improve for 100 rounds\n",
      "[100]\tvalid_0's multi_logloss: 1.10489\n"
     ]
    },
    {
     "name": "stderr",
     "output_type": "stream",
     "text": [
      "num_leaves, val_score: 1.101402:  65%|###############################8                 | 13/20 [01:50<01:10, 10.04s/it]\u001b[32m[I 2021-05-19 20:57:46,199]\u001b[0m Trial 19 finished with value: 1.1035434633471777 and parameters: {'num_leaves': 54}. Best is trial 18 with value: 1.1014018332506155.\u001b[0m\n",
      "num_leaves, val_score: 1.101402:  65%|###############################8                 | 13/20 [01:50<01:10, 10.04s/it]"
     ]
    },
    {
     "name": "stdout",
     "output_type": "stream",
     "text": [
      "Early stopping, best iteration is:\n",
      "[68]\tvalid_0's multi_logloss: 1.10354\n",
      "Training until validation scores don't improve for 100 rounds\n",
      "[100]\tvalid_0's multi_logloss: 1.10474\n"
     ]
    },
    {
     "name": "stderr",
     "output_type": "stream",
     "text": [
      "num_leaves, val_score: 1.101402:  70%|##################################3              | 14/20 [01:56<00:53,  8.89s/it]\u001b[32m[I 2021-05-19 20:57:52,434]\u001b[0m Trial 20 finished with value: 1.1032231469910538 and parameters: {'num_leaves': 52}. Best is trial 18 with value: 1.1014018332506155.\u001b[0m\n",
      "num_leaves, val_score: 1.101402:  70%|##################################3              | 14/20 [01:56<00:53,  8.89s/it]"
     ]
    },
    {
     "name": "stdout",
     "output_type": "stream",
     "text": [
      "Early stopping, best iteration is:\n",
      "[62]\tvalid_0's multi_logloss: 1.10322\n",
      "Training until validation scores don't improve for 100 rounds\n",
      "[100]\tvalid_0's multi_logloss: 1.10916\n",
      "[200]\tvalid_0's multi_logloss: 1.10487\n",
      "[300]\tvalid_0's multi_logloss: 1.10329\n",
      "[400]\tvalid_0's multi_logloss: 1.10266\n",
      "[500]\tvalid_0's multi_logloss: 1.10225\n",
      "[600]\tvalid_0's multi_logloss: 1.10187\n",
      "[700]\tvalid_0's multi_logloss: 1.10167\n",
      "[800]\tvalid_0's multi_logloss: 1.1016\n",
      "[900]\tvalid_0's multi_logloss: 1.10166\n"
     ]
    },
    {
     "name": "stderr",
     "output_type": "stream",
     "text": [
      "num_leaves, val_score: 1.101402:  75%|####################################7            | 15/20 [02:19<01:05, 13.14s/it]\u001b[32m[I 2021-05-19 20:58:15,434]\u001b[0m Trial 21 finished with value: 1.1015323625092281 and parameters: {'num_leaves': 3}. Best is trial 18 with value: 1.1014018332506155.\u001b[0m\n",
      "num_leaves, val_score: 1.101402:  75%|####################################7            | 15/20 [02:19<01:05, 13.14s/it]"
     ]
    },
    {
     "name": "stdout",
     "output_type": "stream",
     "text": [
      "Early stopping, best iteration is:\n",
      "[876]\tvalid_0's multi_logloss: 1.10153\n",
      "Training until validation scores don't improve for 100 rounds\n",
      "[100]\tvalid_0's multi_logloss: 1.10777\n"
     ]
    },
    {
     "name": "stderr",
     "output_type": "stream",
     "text": [
      "num_leaves, val_score: 1.101402:  80%|#######################################2         | 16/20 [02:25<00:44, 11.01s/it]\u001b[32m[I 2021-05-19 20:58:21,469]\u001b[0m Trial 22 finished with value: 1.1049955113029963 and parameters: {'num_leaves': 83}. Best is trial 18 with value: 1.1014018332506155.\u001b[0m\n",
      "num_leaves, val_score: 1.101402:  80%|#######################################2         | 16/20 [02:25<00:44, 11.01s/it]"
     ]
    },
    {
     "name": "stdout",
     "output_type": "stream",
     "text": [
      "Early stopping, best iteration is:\n",
      "[58]\tvalid_0's multi_logloss: 1.105\n",
      "Training until validation scores don't improve for 100 rounds\n",
      "[100]\tvalid_0's multi_logloss: 1.10291\n"
     ]
    },
    {
     "name": "stderr",
     "output_type": "stream",
     "text": [
      "num_leaves, val_score: 1.101402:  85%|#########################################6       | 17/20 [02:31<00:28,  9.43s/it]\u001b[32m[I 2021-05-19 20:58:27,248]\u001b[0m Trial 23 finished with value: 1.1027029857355706 and parameters: {'num_leaves': 32}. Best is trial 18 with value: 1.1014018332506155.\u001b[0m\n",
      "num_leaves, val_score: 1.101402:  85%|#########################################6       | 17/20 [02:31<00:28,  9.43s/it]"
     ]
    },
    {
     "name": "stdout",
     "output_type": "stream",
     "text": [
      "Early stopping, best iteration is:\n",
      "[93]\tvalid_0's multi_logloss: 1.1027\n",
      "Training until validation scores don't improve for 100 rounds\n",
      "[100]\tvalid_0's multi_logloss: 1.11818\n"
     ]
    },
    {
     "name": "stderr",
     "output_type": "stream",
     "text": [
      "num_leaves, val_score: 1.101402:  90%|############################################1    | 18/20 [02:39<00:17,  8.90s/it]\u001b[32m[I 2021-05-19 20:58:34,890]\u001b[0m Trial 24 finished with value: 1.1071669624827998 and parameters: {'num_leaves': 250}. Best is trial 18 with value: 1.1014018332506155.\u001b[0m\n",
      "num_leaves, val_score: 1.101402:  90%|############################################1    | 18/20 [02:39<00:17,  8.90s/it]"
     ]
    },
    {
     "name": "stdout",
     "output_type": "stream",
     "text": [
      "Early stopping, best iteration is:\n",
      "[23]\tvalid_0's multi_logloss: 1.10717\n",
      "Training until validation scores don't improve for 100 rounds\n",
      "[100]\tvalid_0's multi_logloss: 1.10551\n"
     ]
    },
    {
     "name": "stderr",
     "output_type": "stream",
     "text": [
      "num_leaves, val_score: 1.101402:  95%|##############################################5  | 19/20 [02:45<00:08,  8.10s/it]\u001b[32m[I 2021-05-19 20:58:41,141]\u001b[0m Trial 25 finished with value: 1.1035192588740532 and parameters: {'num_leaves': 88}. Best is trial 18 with value: 1.1014018332506155.\u001b[0m\n",
      "num_leaves, val_score: 1.101402:  95%|##############################################5  | 19/20 [02:45<00:08,  8.10s/it]"
     ]
    },
    {
     "name": "stdout",
     "output_type": "stream",
     "text": [
      "Early stopping, best iteration is:\n",
      "[54]\tvalid_0's multi_logloss: 1.10352\n",
      "Training until validation scores don't improve for 100 rounds\n",
      "[100]\tvalid_0's multi_logloss: 1.10226\n"
     ]
    },
    {
     "name": "stderr",
     "output_type": "stream",
     "text": [
      "num_leaves, val_score: 1.101402: 100%|#################################################| 20/20 [02:51<00:00,  7.54s/it]\u001b[32m[I 2021-05-19 20:58:47,389]\u001b[0m Trial 26 finished with value: 1.1018054462557958 and parameters: {'num_leaves': 38}. Best is trial 18 with value: 1.1014018332506155.\u001b[0m\n",
      "num_leaves, val_score: 1.101402: 100%|#################################################| 20/20 [02:51<00:00,  8.59s/it]\n",
      "bagging, val_score: 1.101402:   0%|                                                             | 0/10 [00:00<?, ?it/s]"
     ]
    },
    {
     "name": "stdout",
     "output_type": "stream",
     "text": [
      "Early stopping, best iteration is:\n",
      "[85]\tvalid_0's multi_logloss: 1.10181\n",
      "Training until validation scores don't improve for 100 rounds\n",
      "[100]\tvalid_0's multi_logloss: 1.1066\n",
      "[200]\tvalid_0's multi_logloss: 1.10289\n",
      "[300]\tvalid_0's multi_logloss: 1.10191\n",
      "[400]\tvalid_0's multi_logloss: 1.10184\n",
      "[500]\tvalid_0's multi_logloss: 1.10126\n",
      "[600]\tvalid_0's multi_logloss: 1.10141\n"
     ]
    },
    {
     "name": "stderr",
     "output_type": "stream",
     "text": [
      "bagging, val_score: 1.101223:  10%|#####3                                               | 1/10 [00:17<02:34, 17.22s/it]\u001b[32m[I 2021-05-19 20:59:04,612]\u001b[0m Trial 27 finished with value: 1.1012229830393134 and parameters: {'bagging_fraction': 0.9254436748420204, 'bagging_freq': 1}. Best is trial 27 with value: 1.1012229830393134.\u001b[0m\n",
      "bagging, val_score: 1.101223:  10%|#####3                                               | 1/10 [00:17<02:34, 17.22s/it]"
     ]
    },
    {
     "name": "stdout",
     "output_type": "stream",
     "text": [
      "Early stopping, best iteration is:\n",
      "[580]\tvalid_0's multi_logloss: 1.10122\n",
      "Training until validation scores don't improve for 100 rounds\n",
      "[100]\tvalid_0's multi_logloss: 1.10589\n",
      "[200]\tvalid_0's multi_logloss: 1.1028\n",
      "[300]\tvalid_0's multi_logloss: 1.10208\n",
      "[400]\tvalid_0's multi_logloss: 1.10226\n"
     ]
    },
    {
     "name": "stderr",
     "output_type": "stream",
     "text": [
      "bagging, val_score: 1.101223:  20%|##########6                                          | 2/10 [00:26<01:42, 12.81s/it]\u001b[32m[I 2021-05-19 20:59:14,344]\u001b[0m Trial 28 finished with value: 1.1019397286885309 and parameters: {'bagging_fraction': 0.46350047015999485, 'bagging_freq': 1}. Best is trial 27 with value: 1.1012229830393134.\u001b[0m\n",
      "bagging, val_score: 1.101223:  20%|##########6                                          | 2/10 [00:26<01:42, 12.81s/it]"
     ]
    },
    {
     "name": "stdout",
     "output_type": "stream",
     "text": [
      "Early stopping, best iteration is:\n",
      "[379]\tvalid_0's multi_logloss: 1.10194\n",
      "Training until validation scores don't improve for 100 rounds\n",
      "[100]\tvalid_0's multi_logloss: 1.10609\n",
      "[200]\tvalid_0's multi_logloss: 1.10317\n",
      "[300]\tvalid_0's multi_logloss: 1.10232\n"
     ]
    },
    {
     "name": "stderr",
     "output_type": "stream",
     "text": [
      "bagging, val_score: 1.101223:  30%|###############9                                     | 3/10 [00:34<01:14, 10.62s/it]\u001b[32m[I 2021-05-19 20:59:22,353]\u001b[0m Trial 29 finished with value: 1.102228763034716 and parameters: {'bagging_fraction': 0.5185897361244292, 'bagging_freq': 2}. Best is trial 27 with value: 1.1012229830393134.\u001b[0m\n",
      "bagging, val_score: 1.101223:  30%|###############9                                     | 3/10 [00:34<01:14, 10.62s/it]"
     ]
    },
    {
     "name": "stdout",
     "output_type": "stream",
     "text": [
      "Early stopping, best iteration is:\n",
      "[284]\tvalid_0's multi_logloss: 1.10223\n",
      "Training until validation scores don't improve for 100 rounds\n",
      "[100]\tvalid_0's multi_logloss: 1.10681\n",
      "[200]\tvalid_0's multi_logloss: 1.10361\n",
      "[300]\tvalid_0's multi_logloss: 1.10236\n",
      "[400]\tvalid_0's multi_logloss: 1.10177\n",
      "[500]\tvalid_0's multi_logloss: 1.10183\n",
      "[600]\tvalid_0's multi_logloss: 1.10163\n",
      "[700]\tvalid_0's multi_logloss: 1.10157\n",
      "[800]\tvalid_0's multi_logloss: 1.10174\n"
     ]
    },
    {
     "name": "stderr",
     "output_type": "stream",
     "text": [
      "bagging, val_score: 1.101223:  40%|#####################2                               | 4/10 [00:56<01:29, 14.99s/it]\u001b[32m[I 2021-05-19 20:59:44,039]\u001b[0m Trial 30 finished with value: 1.101427707393712 and parameters: {'bagging_fraction': 0.9718404622027798, 'bagging_freq': 5}. Best is trial 27 with value: 1.1012229830393134.\u001b[0m\n",
      "bagging, val_score: 1.101223:  40%|#####################2                               | 4/10 [00:56<01:29, 14.99s/it]"
     ]
    },
    {
     "name": "stdout",
     "output_type": "stream",
     "text": [
      "Early stopping, best iteration is:\n",
      "[713]\tvalid_0's multi_logloss: 1.10143\n",
      "Training until validation scores don't improve for 100 rounds\n",
      "[100]\tvalid_0's multi_logloss: 1.10662\n",
      "[200]\tvalid_0's multi_logloss: 1.10301\n",
      "[300]\tvalid_0's multi_logloss: 1.10158\n",
      "[400]\tvalid_0's multi_logloss: 1.10136\n"
     ]
    },
    {
     "name": "stderr",
     "output_type": "stream",
     "text": [
      "bagging, val_score: 1.101223:  50%|##########################5                          | 5/10 [01:10<01:13, 14.61s/it]\u001b[32m[I 2021-05-19 20:59:57,976]\u001b[0m Trial 31 finished with value: 1.101316669384037 and parameters: {'bagging_fraction': 0.8985491340902745, 'bagging_freq': 2}. Best is trial 27 with value: 1.1012229830393134.\u001b[0m\n",
      "bagging, val_score: 1.101223:  50%|##########################5                          | 5/10 [01:10<01:13, 14.61s/it]"
     ]
    },
    {
     "name": "stdout",
     "output_type": "stream",
     "text": [
      "[500]\tvalid_0's multi_logloss: 1.10143\n",
      "Early stopping, best iteration is:\n",
      "[404]\tvalid_0's multi_logloss: 1.10132\n",
      "Training until validation scores don't improve for 100 rounds\n",
      "[100]\tvalid_0's multi_logloss: 1.1062\n",
      "[200]\tvalid_0's multi_logloss: 1.10383\n",
      "[300]\tvalid_0's multi_logloss: 1.10234\n",
      "[400]\tvalid_0's multi_logloss: 1.10212\n"
     ]
    },
    {
     "name": "stderr",
     "output_type": "stream",
     "text": [
      "bagging, val_score: 1.101223:  60%|###############################8                     | 6/10 [01:18<00:48, 12.22s/it]\u001b[32m[I 2021-05-19 21:00:05,570]\u001b[0m Trial 32 finished with value: 1.1019628747866492 and parameters: {'bagging_fraction': 0.46487367919102396, 'bagging_freq': 5}. Best is trial 27 with value: 1.1012229830393134.\u001b[0m\n",
      "bagging, val_score: 1.101223:  60%|###############################8                     | 6/10 [01:18<00:48, 12.22s/it]"
     ]
    },
    {
     "name": "stdout",
     "output_type": "stream",
     "text": [
      "Early stopping, best iteration is:\n",
      "[355]\tvalid_0's multi_logloss: 1.10196\n",
      "Training until validation scores don't improve for 100 rounds\n",
      "[100]\tvalid_0's multi_logloss: 1.10702\n",
      "[200]\tvalid_0's multi_logloss: 1.1035\n",
      "[300]\tvalid_0's multi_logloss: 1.10349\n"
     ]
    },
    {
     "name": "stderr",
     "output_type": "stream",
     "text": [
      "bagging, val_score: 1.101223:  70%|#####################################                | 7/10 [01:23<00:29,  9.90s/it]\u001b[32m[I 2021-05-19 21:00:10,677]\u001b[0m Trial 33 finished with value: 1.102776318670303 and parameters: {'bagging_fraction': 0.4753849791071838, 'bagging_freq': 7}. Best is trial 27 with value: 1.1012229830393134.\u001b[0m\n",
      "bagging, val_score: 1.101223:  70%|#####################################                | 7/10 [01:23<00:29,  9.90s/it]"
     ]
    },
    {
     "name": "stdout",
     "output_type": "stream",
     "text": [
      "Early stopping, best iteration is:\n",
      "[222]\tvalid_0's multi_logloss: 1.10278\n",
      "Training until validation scores don't improve for 100 rounds\n",
      "[100]\tvalid_0's multi_logloss: 1.10606\n",
      "[200]\tvalid_0's multi_logloss: 1.10385\n",
      "[300]\tvalid_0's multi_logloss: 1.10234\n",
      "[400]\tvalid_0's multi_logloss: 1.10246\n"
     ]
    },
    {
     "name": "stderr",
     "output_type": "stream",
     "text": [
      "bagging, val_score: 1.101223:  80%|##########################################4          | 8/10 [01:30<00:17,  8.99s/it]\u001b[32m[I 2021-05-19 21:00:17,716]\u001b[0m Trial 34 finished with value: 1.1022135822533572 and parameters: {'bagging_fraction': 0.4355705383015162, 'bagging_freq': 5}. Best is trial 27 with value: 1.1012229830393134.\u001b[0m\n",
      "bagging, val_score: 1.101223:  80%|##########################################4          | 8/10 [01:30<00:17,  8.99s/it]"
     ]
    },
    {
     "name": "stdout",
     "output_type": "stream",
     "text": [
      "Early stopping, best iteration is:\n",
      "[328]\tvalid_0's multi_logloss: 1.10221\n",
      "Training until validation scores don't improve for 100 rounds\n",
      "[100]\tvalid_0's multi_logloss: 1.10667\n",
      "[200]\tvalid_0's multi_logloss: 1.10292\n",
      "[300]\tvalid_0's multi_logloss: 1.102\n",
      "[400]\tvalid_0's multi_logloss: 1.10204\n"
     ]
    },
    {
     "name": "stderr",
     "output_type": "stream",
     "text": [
      "bagging, val_score: 1.101223:  90%|###############################################7     | 9/10 [01:40<00:09,  9.38s/it]\u001b[32m[I 2021-05-19 21:00:27,955]\u001b[0m Trial 35 finished with value: 1.1018406275965775 and parameters: {'bagging_fraction': 0.7622146009031395, 'bagging_freq': 3}. Best is trial 27 with value: 1.1012229830393134.\u001b[0m\n",
      "bagging, val_score: 1.101223:  90%|###############################################7     | 9/10 [01:40<00:09,  9.38s/it]"
     ]
    },
    {
     "name": "stdout",
     "output_type": "stream",
     "text": [
      "Early stopping, best iteration is:\n",
      "[357]\tvalid_0's multi_logloss: 1.10184\n",
      "Training until validation scores don't improve for 100 rounds\n",
      "[100]\tvalid_0's multi_logloss: 1.10668\n",
      "[200]\tvalid_0's multi_logloss: 1.10287\n",
      "[300]\tvalid_0's multi_logloss: 1.10174\n",
      "[400]\tvalid_0's multi_logloss: 1.10155\n",
      "[500]\tvalid_0's multi_logloss: 1.10105\n"
     ]
    },
    {
     "name": "stderr",
     "output_type": "stream",
     "text": [
      "bagging, val_score: 1.100948: 100%|####################################################| 10/10 [01:52<00:00, 10.20s/it]\u001b[32m[I 2021-05-19 21:00:39,989]\u001b[0m Trial 36 finished with value: 1.1009482906683346 and parameters: {'bagging_fraction': 0.6867987886474038, 'bagging_freq': 3}. Best is trial 36 with value: 1.1009482906683346.\u001b[0m\n",
      "bagging, val_score: 1.100948: 100%|####################################################| 10/10 [01:52<00:00, 11.26s/it]\n",
      "feature_fraction_stage2, val_score: 1.100948:   0%|                                              | 0/6 [00:00<?, ?it/s]"
     ]
    },
    {
     "name": "stdout",
     "output_type": "stream",
     "text": [
      "Early stopping, best iteration is:\n",
      "[464]\tvalid_0's multi_logloss: 1.10095\n",
      "Training until validation scores don't improve for 100 rounds\n",
      "[100]\tvalid_0's multi_logloss: 1.10661\n",
      "[200]\tvalid_0's multi_logloss: 1.10288\n",
      "[300]\tvalid_0's multi_logloss: 1.10179\n"
     ]
    },
    {
     "name": "stderr",
     "output_type": "stream",
     "text": [
      "feature_fraction_stage2, val_score: 1.100948:  17%|######3                               | 1/6 [00:08<00:43,  8.69s/it]\u001b[32m[I 2021-05-19 21:00:48,680]\u001b[0m Trial 37 finished with value: 1.1015162245286043 and parameters: {'feature_fraction': 0.484}. Best is trial 37 with value: 1.1015162245286043.\u001b[0m\n",
      "feature_fraction_stage2, val_score: 1.100948:  17%|######3                               | 1/6 [00:08<00:43,  8.69s/it]"
     ]
    },
    {
     "name": "stdout",
     "output_type": "stream",
     "text": [
      "Early stopping, best iteration is:\n",
      "[283]\tvalid_0's multi_logloss: 1.10152\n",
      "Training until validation scores don't improve for 100 rounds\n",
      "[100]\tvalid_0's multi_logloss: 1.10638\n",
      "[200]\tvalid_0's multi_logloss: 1.1025\n",
      "[300]\tvalid_0's multi_logloss: 1.10161\n"
     ]
    },
    {
     "name": "stderr",
     "output_type": "stream",
     "text": [
      "feature_fraction_stage2, val_score: 1.100948:  33%|############6                         | 2/6 [00:16<00:33,  8.35s/it]\u001b[32m[I 2021-05-19 21:00:56,796]\u001b[0m Trial 38 finished with value: 1.101274157676328 and parameters: {'feature_fraction': 0.42}. Best is trial 38 with value: 1.101274157676328.\u001b[0m\n",
      "feature_fraction_stage2, val_score: 1.100948:  33%|############6                         | 2/6 [00:16<00:33,  8.35s/it]"
     ]
    },
    {
     "name": "stdout",
     "output_type": "stream",
     "text": [
      "Early stopping, best iteration is:\n",
      "[286]\tvalid_0's multi_logloss: 1.10127\n",
      "Training until validation scores don't improve for 100 rounds\n",
      "[100]\tvalid_0's multi_logloss: 1.10648\n",
      "[200]\tvalid_0's multi_logloss: 1.10295\n",
      "[300]\tvalid_0's multi_logloss: 1.10194\n",
      "[400]\tvalid_0's multi_logloss: 1.10185\n",
      "[500]\tvalid_0's multi_logloss: 1.10158\n"
     ]
    },
    {
     "name": "stderr",
     "output_type": "stream",
     "text": [
      "feature_fraction_stage2, val_score: 1.100948:  50%|###################                   | 3/6 [00:28<00:29,  9.80s/it]\u001b[32m[I 2021-05-19 21:01:08,329]\u001b[0m Trial 39 finished with value: 1.1014422831789485 and parameters: {'feature_fraction': 0.5479999999999999}. Best is trial 38 with value: 1.101274157676328.\u001b[0m\n",
      "feature_fraction_stage2, val_score: 1.100948:  50%|###################                   | 3/6 [00:28<00:29,  9.80s/it]"
     ]
    },
    {
     "name": "stdout",
     "output_type": "stream",
     "text": [
      "Early stopping, best iteration is:\n",
      "[456]\tvalid_0's multi_logloss: 1.10144\n",
      "Training until validation scores don't improve for 100 rounds\n",
      "[100]\tvalid_0's multi_logloss: 1.10651\n",
      "[200]\tvalid_0's multi_logloss: 1.10253\n",
      "[300]\tvalid_0's multi_logloss: 1.10162\n",
      "[400]\tvalid_0's multi_logloss: 1.10177\n",
      "[500]\tvalid_0's multi_logloss: 1.10116\n",
      "[600]\tvalid_0's multi_logloss: 1.1013\n",
      "Early stopping, best iteration is:\n",
      "[505]\tvalid_0's multi_logloss: 1.1011\n"
     ]
    },
    {
     "name": "stderr",
     "output_type": "stream",
     "text": [
      "feature_fraction_stage2, val_score: 1.100948:  67%|#########################3            | 4/6 [00:40<00:21, 10.77s/it]\u001b[32m[I 2021-05-19 21:01:20,584]\u001b[0m Trial 40 finished with value: 1.1011013514762695 and parameters: {'feature_fraction': 0.516}. Best is trial 40 with value: 1.1011013514762695.\u001b[0m\n",
      "feature_fraction_stage2, val_score: 1.100948:  67%|#########################3            | 4/6 [00:40<00:21, 10.77s/it]"
     ]
    },
    {
     "name": "stdout",
     "output_type": "stream",
     "text": [
      "Training until validation scores don't improve for 100 rounds\n",
      "[100]\tvalid_0's multi_logloss: 1.10627\n",
      "[200]\tvalid_0's multi_logloss: 1.10284\n",
      "[300]\tvalid_0's multi_logloss: 1.10188\n",
      "[400]\tvalid_0's multi_logloss: 1.10163\n",
      "[500]\tvalid_0's multi_logloss: 1.10124\n"
     ]
    },
    {
     "name": "stderr",
     "output_type": "stream",
     "text": [
      "feature_fraction_stage2, val_score: 1.100948:  83%|###############################6      | 5/6 [00:51<00:10, 10.69s/it]\u001b[32m[I 2021-05-19 21:01:31,135]\u001b[0m Trial 41 finished with value: 1.1010454818896163 and parameters: {'feature_fraction': 0.58}. Best is trial 41 with value: 1.1010454818896163.\u001b[0m\n",
      "feature_fraction_stage2, val_score: 1.100948:  83%|###############################6      | 5/6 [00:51<00:10, 10.69s/it]"
     ]
    },
    {
     "name": "stdout",
     "output_type": "stream",
     "text": [
      "Early stopping, best iteration is:\n",
      "[469]\tvalid_0's multi_logloss: 1.10105\n",
      "Training until validation scores don't improve for 100 rounds\n",
      "[100]\tvalid_0's multi_logloss: 1.10647\n",
      "[200]\tvalid_0's multi_logloss: 1.10273\n",
      "[300]\tvalid_0's multi_logloss: 1.10163\n",
      "[400]\tvalid_0's multi_logloss: 1.10148\n",
      "[500]\tvalid_0's multi_logloss: 1.10108\n",
      "[600]\tvalid_0's multi_logloss: 1.10096\n",
      "[700]\tvalid_0's multi_logloss: 1.10109\n"
     ]
    },
    {
     "name": "stderr",
     "output_type": "stream",
     "text": [
      "feature_fraction_stage2, val_score: 1.100888: 100%|######################################| 6/6 [01:07<00:00, 12.62s/it]\u001b[32m[I 2021-05-19 21:01:47,507]\u001b[0m Trial 42 finished with value: 1.1008879382280974 and parameters: {'feature_fraction': 0.45199999999999996}. Best is trial 42 with value: 1.1008879382280974.\u001b[0m\n",
      "feature_fraction_stage2, val_score: 1.100888: 100%|######################################| 6/6 [01:07<00:00, 11.25s/it]\n",
      "regularization_factors, val_score: 1.100888:   0%|                                              | 0/20 [00:00<?, ?it/s]"
     ]
    },
    {
     "name": "stdout",
     "output_type": "stream",
     "text": [
      "Early stopping, best iteration is:\n",
      "[681]\tvalid_0's multi_logloss: 1.10089\n",
      "Training until validation scores don't improve for 100 rounds\n",
      "[100]\tvalid_0's multi_logloss: 1.10647\n",
      "[200]\tvalid_0's multi_logloss: 1.10273\n",
      "[300]\tvalid_0's multi_logloss: 1.10171\n",
      "[400]\tvalid_0's multi_logloss: 1.10138\n",
      "[500]\tvalid_0's multi_logloss: 1.10108\n",
      "[600]\tvalid_0's multi_logloss: 1.10094\n",
      "[700]\tvalid_0's multi_logloss: 1.10107\n"
     ]
    },
    {
     "name": "stderr",
     "output_type": "stream",
     "text": [
      "regularization_factors, val_score: 1.100856:   5%|#9                                    | 1/20 [00:16<05:15, 16.63s/it]\u001b[32m[I 2021-05-19 21:02:04,134]\u001b[0m Trial 43 finished with value: 1.100856128638914 and parameters: {'lambda_l1': 1.490637461452224e-07, 'lambda_l2': 0.0015609864537232466}. Best is trial 43 with value: 1.100856128638914.\u001b[0m\n",
      "regularization_factors, val_score: 1.100856:   5%|#9                                    | 1/20 [00:16<05:15, 16.63s/it]"
     ]
    },
    {
     "name": "stdout",
     "output_type": "stream",
     "text": [
      "Early stopping, best iteration is:\n",
      "[682]\tvalid_0's multi_logloss: 1.10086\n",
      "Training until validation scores don't improve for 100 rounds\n",
      "[100]\tvalid_0's multi_logloss: 1.10627\n",
      "[200]\tvalid_0's multi_logloss: 1.10241\n",
      "[300]\tvalid_0's multi_logloss: 1.10158\n",
      "[400]\tvalid_0's multi_logloss: 1.10145\n",
      "[500]\tvalid_0's multi_logloss: 1.10105\n",
      "[600]\tvalid_0's multi_logloss: 1.1011\n"
     ]
    },
    {
     "name": "stderr",
     "output_type": "stream",
     "text": [
      "regularization_factors, val_score: 1.100856:  10%|###8                                  | 2/20 [00:29<04:16, 14.24s/it]\u001b[32m[I 2021-05-19 21:02:16,706]\u001b[0m Trial 44 finished with value: 1.100900248503546 and parameters: {'lambda_l1': 3.5020936178548086e-06, 'lambda_l2': 0.1152358394056933}. Best is trial 43 with value: 1.100856128638914.\u001b[0m\n",
      "regularization_factors, val_score: 1.100856:  10%|###8                                  | 2/20 [00:29<04:16, 14.24s/it]"
     ]
    },
    {
     "name": "stdout",
     "output_type": "stream",
     "text": [
      "Early stopping, best iteration is:\n",
      "[520]\tvalid_0's multi_logloss: 1.1009\n",
      "Training until validation scores don't improve for 100 rounds\n",
      "[100]\tvalid_0's multi_logloss: 1.10644\n",
      "[200]\tvalid_0's multi_logloss: 1.10239\n",
      "[300]\tvalid_0's multi_logloss: 1.10127\n",
      "[400]\tvalid_0's multi_logloss: 1.10094\n",
      "[500]\tvalid_0's multi_logloss: 1.10069\n"
     ]
    },
    {
     "name": "stderr",
     "output_type": "stream",
     "text": [
      "regularization_factors, val_score: 1.100390:  15%|#####7                                | 3/20 [00:41<03:44, 13.22s/it]\u001b[32m[I 2021-05-19 21:02:28,715]\u001b[0m Trial 45 finished with value: 1.1003900023686304 and parameters: {'lambda_l1': 0.49620287986693007, 'lambda_l2': 4.2234412891685915}. Best is trial 45 with value: 1.1003900023686304.\u001b[0m\n",
      "regularization_factors, val_score: 1.100390:  15%|#####7                                | 3/20 [00:41<03:44, 13.22s/it]"
     ]
    },
    {
     "name": "stdout",
     "output_type": "stream",
     "text": [
      "Early stopping, best iteration is:\n",
      "[463]\tvalid_0's multi_logloss: 1.10039\n",
      "Training until validation scores don't improve for 100 rounds\n",
      "[100]\tvalid_0's multi_logloss: 1.10647\n",
      "[200]\tvalid_0's multi_logloss: 1.10272\n",
      "[300]\tvalid_0's multi_logloss: 1.10165\n",
      "[400]\tvalid_0's multi_logloss: 1.10146\n",
      "[500]\tvalid_0's multi_logloss: 1.10127\n"
     ]
    },
    {
     "name": "stderr",
     "output_type": "stream",
     "text": [
      "regularization_factors, val_score: 1.100390:  20%|#######6                              | 4/20 [00:53<03:23, 12.71s/it]\u001b[32m[I 2021-05-19 21:02:40,639]\u001b[0m Trial 46 finished with value: 1.1011249937355057 and parameters: {'lambda_l1': 1.4677291534594577e-07, 'lambda_l2': 0.0043070241466568555}. Best is trial 45 with value: 1.1003900023686304.\u001b[0m\n",
      "regularization_factors, val_score: 1.100390:  20%|#######6                              | 4/20 [00:53<03:23, 12.71s/it]"
     ]
    },
    {
     "name": "stdout",
     "output_type": "stream",
     "text": [
      "Early stopping, best iteration is:\n",
      "[462]\tvalid_0's multi_logloss: 1.10112\n",
      "Training until validation scores don't improve for 100 rounds\n",
      "[100]\tvalid_0's multi_logloss: 1.10647\n",
      "[200]\tvalid_0's multi_logloss: 1.10273\n",
      "[300]\tvalid_0's multi_logloss: 1.10163\n",
      "[400]\tvalid_0's multi_logloss: 1.10148\n",
      "[500]\tvalid_0's multi_logloss: 1.10108\n",
      "[600]\tvalid_0's multi_logloss: 1.10096\n",
      "[700]\tvalid_0's multi_logloss: 1.10109\n"
     ]
    },
    {
     "name": "stderr",
     "output_type": "stream",
     "text": [
      "regularization_factors, val_score: 1.100390:  25%|#########5                            | 5/20 [01:08<03:24, 13.62s/it]\u001b[32m[I 2021-05-19 21:02:55,864]\u001b[0m Trial 47 finished with value: 1.1008879338052444 and parameters: {'lambda_l1': 3.8733023422397485e-07, 'lambda_l2': 8.762207341386197e-06}. Best is trial 45 with value: 1.1003900023686304.\u001b[0m\n",
      "regularization_factors, val_score: 1.100390:  25%|#########5                            | 5/20 [01:08<03:24, 13.62s/it]"
     ]
    },
    {
     "name": "stdout",
     "output_type": "stream",
     "text": [
      "Early stopping, best iteration is:\n",
      "[681]\tvalid_0's multi_logloss: 1.10089\n",
      "Training until validation scores don't improve for 100 rounds\n",
      "[100]\tvalid_0's multi_logloss: 1.10636\n",
      "[200]\tvalid_0's multi_logloss: 1.10234\n",
      "[300]\tvalid_0's multi_logloss: 1.10148\n",
      "[400]\tvalid_0's multi_logloss: 1.1013\n",
      "[500]\tvalid_0's multi_logloss: 1.10073\n",
      "[600]\tvalid_0's multi_logloss: 1.10059\n",
      "[700]\tvalid_0's multi_logloss: 1.10068\n"
     ]
    },
    {
     "name": "stderr",
     "output_type": "stream",
     "text": [
      "regularization_factors, val_score: 1.100390:  30%|###########4                          | 6/20 [01:23<03:18, 14.17s/it]\u001b[32m[I 2021-05-19 21:03:11,124]\u001b[0m Trial 48 finished with value: 1.100504720040095 and parameters: {'lambda_l1': 0.7080044395222213, 'lambda_l2': 7.040473913100105e-05}. Best is trial 45 with value: 1.1003900023686304.\u001b[0m\n",
      "regularization_factors, val_score: 1.100390:  30%|###########4                          | 6/20 [01:23<03:18, 14.17s/it]"
     ]
    },
    {
     "name": "stdout",
     "output_type": "stream",
     "text": [
      "Early stopping, best iteration is:\n",
      "[627]\tvalid_0's multi_logloss: 1.1005\n",
      "Training until validation scores don't improve for 100 rounds\n",
      "[100]\tvalid_0's multi_logloss: 1.10647\n",
      "[200]\tvalid_0's multi_logloss: 1.10273\n",
      "[300]\tvalid_0's multi_logloss: 1.10163\n",
      "[400]\tvalid_0's multi_logloss: 1.10148\n",
      "[500]\tvalid_0's multi_logloss: 1.10108\n",
      "[600]\tvalid_0's multi_logloss: 1.10096\n",
      "[700]\tvalid_0's multi_logloss: 1.10109\n"
     ]
    },
    {
     "name": "stderr",
     "output_type": "stream",
     "text": [
      "regularization_factors, val_score: 1.100390:  35%|#############3                        | 7/20 [01:38<03:08, 14.52s/it]\u001b[32m[I 2021-05-19 21:03:26,366]\u001b[0m Trial 49 finished with value: 1.1008879188045282 and parameters: {'lambda_l1': 2.0695558388102132e-05, 'lambda_l2': 2.1229437705681497e-05}. Best is trial 45 with value: 1.1003900023686304.\u001b[0m\n",
      "regularization_factors, val_score: 1.100390:  35%|#############3                        | 7/20 [01:38<03:08, 14.52s/it]"
     ]
    },
    {
     "name": "stdout",
     "output_type": "stream",
     "text": [
      "Early stopping, best iteration is:\n",
      "[681]\tvalid_0's multi_logloss: 1.10089\n",
      "Training until validation scores don't improve for 100 rounds\n",
      "[100]\tvalid_0's multi_logloss: 1.10624\n",
      "[200]\tvalid_0's multi_logloss: 1.10225\n",
      "[300]\tvalid_0's multi_logloss: 1.10116\n",
      "[400]\tvalid_0's multi_logloss: 1.10092\n",
      "[500]\tvalid_0's multi_logloss: 1.10055\n"
     ]
    },
    {
     "name": "stderr",
     "output_type": "stream",
     "text": [
      "regularization_factors, val_score: 1.100240:  40%|###############2                      | 8/20 [01:51<02:45, 13.77s/it]\u001b[32m[I 2021-05-19 21:03:38,514]\u001b[0m Trial 50 finished with value: 1.1002403999743966 and parameters: {'lambda_l1': 2.9495701044264275, 'lambda_l2': 0.41146545292803843}. Best is trial 50 with value: 1.1002403999743966.\u001b[0m\n",
      "regularization_factors, val_score: 1.100240:  40%|###############2                      | 8/20 [01:51<02:45, 13.77s/it]"
     ]
    },
    {
     "name": "stdout",
     "output_type": "stream",
     "text": [
      "Early stopping, best iteration is:\n",
      "[464]\tvalid_0's multi_logloss: 1.10024\n",
      "Training until validation scores don't improve for 100 rounds\n",
      "[100]\tvalid_0's multi_logloss: 1.10647\n",
      "[200]\tvalid_0's multi_logloss: 1.10273\n",
      "[300]\tvalid_0's multi_logloss: 1.10163\n",
      "[400]\tvalid_0's multi_logloss: 1.10148\n",
      "[500]\tvalid_0's multi_logloss: 1.10108\n",
      "[600]\tvalid_0's multi_logloss: 1.10096\n",
      "[700]\tvalid_0's multi_logloss: 1.10109\n"
     ]
    },
    {
     "name": "stderr",
     "output_type": "stream",
     "text": [
      "regularization_factors, val_score: 1.100240:  45%|#################1                    | 9/20 [02:07<02:42, 14.74s/it]\u001b[32m[I 2021-05-19 21:03:55,379]\u001b[0m Trial 51 finished with value: 1.1008879161367457 and parameters: {'lambda_l1': 1.0959792534961582e-06, 'lambda_l2': 4.458548534858211e-05}. Best is trial 50 with value: 1.1002403999743966.\u001b[0m\n",
      "regularization_factors, val_score: 1.100240:  45%|#################1                    | 9/20 [02:07<02:42, 14.74s/it]"
     ]
    },
    {
     "name": "stdout",
     "output_type": "stream",
     "text": [
      "Early stopping, best iteration is:\n",
      "[681]\tvalid_0's multi_logloss: 1.10089\n",
      "Training until validation scores don't improve for 100 rounds\n",
      "[100]\tvalid_0's multi_logloss: 1.10647\n",
      "[200]\tvalid_0's multi_logloss: 1.10273\n",
      "[300]\tvalid_0's multi_logloss: 1.10163\n",
      "[400]\tvalid_0's multi_logloss: 1.10148\n",
      "[500]\tvalid_0's multi_logloss: 1.10108\n",
      "[600]\tvalid_0's multi_logloss: 1.10096\n",
      "[700]\tvalid_0's multi_logloss: 1.10109\n"
     ]
    },
    {
     "name": "stderr",
     "output_type": "stream",
     "text": [
      "regularization_factors, val_score: 1.100240:  50%|##################5                  | 10/20 [02:24<02:32, 15.20s/it]\u001b[32m[I 2021-05-19 21:04:11,629]\u001b[0m Trial 52 finished with value: 1.1008879379949104 and parameters: {'lambda_l1': 1.5906619918109274e-07, 'lambda_l2': 3.3965519269184676e-07}. Best is trial 50 with value: 1.1002403999743966.\u001b[0m\n",
      "regularization_factors, val_score: 1.100240:  50%|##################5                  | 10/20 [02:24<02:32, 15.20s/it]"
     ]
    },
    {
     "name": "stdout",
     "output_type": "stream",
     "text": [
      "Early stopping, best iteration is:\n",
      "[681]\tvalid_0's multi_logloss: 1.10089\n",
      "Training until validation scores don't improve for 100 rounds\n",
      "[100]\tvalid_0's multi_logloss: 1.10627\n",
      "[200]\tvalid_0's multi_logloss: 1.10252\n",
      "[300]\tvalid_0's multi_logloss: 1.10143\n",
      "[400]\tvalid_0's multi_logloss: 1.10135\n",
      "[500]\tvalid_0's multi_logloss: 1.10102\n"
     ]
    },
    {
     "name": "stderr",
     "output_type": "stream",
     "text": [
      "regularization_factors, val_score: 1.100240:  55%|####################3                | 11/20 [02:36<02:07, 14.20s/it]\u001b[32m[I 2021-05-19 21:04:23,540]\u001b[0m Trial 53 finished with value: 1.1008267419430435 and parameters: {'lambda_l1': 0.009637621997849856, 'lambda_l2': 5.713651760327917}. Best is trial 50 with value: 1.1002403999743966.\u001b[0m\n",
      "regularization_factors, val_score: 1.100240:  55%|####################3                | 11/20 [02:36<02:07, 14.20s/it]"
     ]
    },
    {
     "name": "stdout",
     "output_type": "stream",
     "text": [
      "Early stopping, best iteration is:\n",
      "[463]\tvalid_0's multi_logloss: 1.10083\n",
      "Training until validation scores don't improve for 100 rounds\n",
      "[100]\tvalid_0's multi_logloss: 1.10635\n",
      "[200]\tvalid_0's multi_logloss: 1.10231\n",
      "[300]\tvalid_0's multi_logloss: 1.10088\n",
      "[400]\tvalid_0's multi_logloss: 1.10059\n",
      "[500]\tvalid_0's multi_logloss: 1.10003\n",
      "[600]\tvalid_0's multi_logloss: 1.09973\n",
      "[700]\tvalid_0's multi_logloss: 1.09983\n",
      "Early stopping, best iteration is:\n",
      "[610]\tvalid_0's multi_logloss: 1.09968\n"
     ]
    },
    {
     "name": "stderr",
     "output_type": "stream",
     "text": [
      "regularization_factors, val_score: 1.099681:  60%|######################2              | 12/20 [02:51<01:55, 14.47s/it]\u001b[32m[I 2021-05-19 21:04:38,644]\u001b[0m Trial 54 finished with value: 1.09968097872839 and parameters: {'lambda_l1': 7.081037252754675, 'lambda_l2': 7.107302626784165}. Best is trial 54 with value: 1.09968097872839.\u001b[0m\n",
      "regularization_factors, val_score: 1.099681:  60%|######################2              | 12/20 [02:51<01:55, 14.47s/it]"
     ]
    },
    {
     "name": "stdout",
     "output_type": "stream",
     "text": [
      "Training until validation scores don't improve for 100 rounds\n",
      "[100]\tvalid_0's multi_logloss: 1.10642\n",
      "[200]\tvalid_0's multi_logloss: 1.10241\n",
      "[300]\tvalid_0's multi_logloss: 1.10115\n",
      "[400]\tvalid_0's multi_logloss: 1.10081\n",
      "[500]\tvalid_0's multi_logloss: 1.10022\n",
      "[600]\tvalid_0's multi_logloss: 1.09992\n",
      "[700]\tvalid_0's multi_logloss: 1.1002\n",
      "Early stopping, best iteration is:\n",
      "[610]\tvalid_0's multi_logloss: 1.0999\n"
     ]
    },
    {
     "name": "stderr",
     "output_type": "stream",
     "text": [
      "regularization_factors, val_score: 1.099681:  65%|########################             | 13/20 [03:06<01:42, 14.70s/it]\u001b[32m[I 2021-05-19 21:04:53,854]\u001b[0m Trial 55 finished with value: 1.099895979680347 and parameters: {'lambda_l1': 5.2834344969169935, 'lambda_l2': 0.16573125756832519}. Best is trial 54 with value: 1.09968097872839.\u001b[0m\n",
      "regularization_factors, val_score: 1.099681:  65%|########################             | 13/20 [03:06<01:42, 14.70s/it]"
     ]
    },
    {
     "name": "stdout",
     "output_type": "stream",
     "text": [
      "Training until validation scores don't improve for 100 rounds\n",
      "[100]\tvalid_0's multi_logloss: 1.1065\n",
      "[200]\tvalid_0's multi_logloss: 1.10266\n",
      "[300]\tvalid_0's multi_logloss: 1.1016\n",
      "[400]\tvalid_0's multi_logloss: 1.10163\n",
      "[500]\tvalid_0's multi_logloss: 1.10115\n",
      "[600]\tvalid_0's multi_logloss: 1.10106\n"
     ]
    },
    {
     "name": "stderr",
     "output_type": "stream",
     "text": [
      "regularization_factors, val_score: 1.099681:  70%|#########################9           | 14/20 [03:19<01:25, 14.18s/it]\u001b[32m[I 2021-05-19 21:05:06,859]\u001b[0m Trial 56 finished with value: 1.1008759326108342 and parameters: {'lambda_l1': 0.013327718012878942, 'lambda_l2': 0.05607830084917801}. Best is trial 54 with value: 1.09968097872839.\u001b[0m\n",
      "regularization_factors, val_score: 1.099681:  70%|#########################9           | 14/20 [03:19<01:25, 14.18s/it]"
     ]
    },
    {
     "name": "stdout",
     "output_type": "stream",
     "text": [
      "Early stopping, best iteration is:\n",
      "[520]\tvalid_0's multi_logloss: 1.10088\n",
      "Training until validation scores don't improve for 100 rounds\n",
      "[100]\tvalid_0's multi_logloss: 1.10637\n",
      "[200]\tvalid_0's multi_logloss: 1.10225\n",
      "[300]\tvalid_0's multi_logloss: 1.10089\n",
      "[400]\tvalid_0's multi_logloss: 1.10054\n",
      "[500]\tvalid_0's multi_logloss: 1.10006\n",
      "[600]\tvalid_0's multi_logloss: 1.09975\n",
      "[700]\tvalid_0's multi_logloss: 1.09993\n",
      "Early stopping, best iteration is:\n",
      "[610]\tvalid_0's multi_logloss: 1.09971\n"
     ]
    },
    {
     "name": "stderr",
     "output_type": "stream",
     "text": [
      "regularization_factors, val_score: 1.099681:  75%|###########################7         | 15/20 [03:34<01:12, 14.54s/it]\u001b[32m[I 2021-05-19 21:05:22,220]\u001b[0m Trial 57 finished with value: 1.0997113917840826 and parameters: {'lambda_l1': 7.224384258457848, 'lambda_l2': 9.468950690777975}. Best is trial 54 with value: 1.09968097872839.\u001b[0m\n",
      "regularization_factors, val_score: 1.099681:  75%|###########################7         | 15/20 [03:34<01:12, 14.54s/it]"
     ]
    },
    {
     "name": "stdout",
     "output_type": "stream",
     "text": [
      "Training until validation scores don't improve for 100 rounds\n",
      "[100]\tvalid_0's multi_logloss: 1.10639\n",
      "[200]\tvalid_0's multi_logloss: 1.10227\n",
      "[300]\tvalid_0's multi_logloss: 1.1012\n",
      "[400]\tvalid_0's multi_logloss: 1.10108\n",
      "[500]\tvalid_0's multi_logloss: 1.10076\n"
     ]
    },
    {
     "name": "stderr",
     "output_type": "stream",
     "text": [
      "regularization_factors, val_score: 1.099681:  80%|#############################6       | 16/20 [03:46<00:55, 13.77s/it]\u001b[32m[I 2021-05-19 21:05:34,199]\u001b[0m Trial 58 finished with value: 1.1005789053701325 and parameters: {'lambda_l1': 0.05104882690457948, 'lambda_l2': 7.971217721731594}. Best is trial 54 with value: 1.09968097872839.\u001b[0m\n",
      "regularization_factors, val_score: 1.099681:  80%|#############################6       | 16/20 [03:46<00:55, 13.77s/it]"
     ]
    },
    {
     "name": "stdout",
     "output_type": "stream",
     "text": [
      "Early stopping, best iteration is:\n",
      "[462]\tvalid_0's multi_logloss: 1.10058\n",
      "Training until validation scores don't improve for 100 rounds\n",
      "[100]\tvalid_0's multi_logloss: 1.10647\n",
      "[200]\tvalid_0's multi_logloss: 1.10273\n",
      "[300]\tvalid_0's multi_logloss: 1.10171\n",
      "[400]\tvalid_0's multi_logloss: 1.10138\n",
      "[500]\tvalid_0's multi_logloss: 1.10108\n",
      "[600]\tvalid_0's multi_logloss: 1.10094\n",
      "[700]\tvalid_0's multi_logloss: 1.10107\n"
     ]
    },
    {
     "name": "stderr",
     "output_type": "stream",
     "text": [
      "regularization_factors, val_score: 1.099681:  85%|###############################4     | 17/20 [04:03<00:43, 14.56s/it]\u001b[32m[I 2021-05-19 21:05:50,589]\u001b[0m Trial 59 finished with value: 1.1008566554519432 and parameters: {'lambda_l1': 0.00048505651017494156, 'lambda_l2': 2.7612274133154348e-08}. Best is trial 54 with value: 1.09968097872839.\u001b[0m\n",
      "regularization_factors, val_score: 1.099681:  85%|###############################4     | 17/20 [04:03<00:43, 14.56s/it]"
     ]
    },
    {
     "name": "stdout",
     "output_type": "stream",
     "text": [
      "Early stopping, best iteration is:\n",
      "[682]\tvalid_0's multi_logloss: 1.10086\n",
      "Training until validation scores don't improve for 100 rounds\n",
      "[100]\tvalid_0's multi_logloss: 1.10606\n",
      "[200]\tvalid_0's multi_logloss: 1.10211\n",
      "[300]\tvalid_0's multi_logloss: 1.10125\n",
      "[400]\tvalid_0's multi_logloss: 1.10108\n",
      "[500]\tvalid_0's multi_logloss: 1.10066\n",
      "[600]\tvalid_0's multi_logloss: 1.10055\n",
      "[700]\tvalid_0's multi_logloss: 1.10073\n"
     ]
    },
    {
     "name": "stderr",
     "output_type": "stream",
     "text": [
      "regularization_factors, val_score: 1.099681:  90%|#################################3   | 18/20 [04:20<00:30, 15.36s/it]\u001b[32m[I 2021-05-19 21:06:07,829]\u001b[0m Trial 60 finished with value: 1.1003646105408271 and parameters: {'lambda_l1': 0.0005232619858254798, 'lambda_l2': 1.4367691105643505}. Best is trial 54 with value: 1.09968097872839.\u001b[0m\n",
      "regularization_factors, val_score: 1.099681:  90%|#################################3   | 18/20 [04:20<00:30, 15.36s/it]"
     ]
    },
    {
     "name": "stdout",
     "output_type": "stream",
     "text": [
      "Early stopping, best iteration is:\n",
      "[627]\tvalid_0's multi_logloss: 1.10036\n",
      "Training until validation scores don't improve for 100 rounds\n",
      "[100]\tvalid_0's multi_logloss: 1.10642\n",
      "[200]\tvalid_0's multi_logloss: 1.10225\n",
      "[300]\tvalid_0's multi_logloss: 1.10083\n",
      "[400]\tvalid_0's multi_logloss: 1.10053\n",
      "[500]\tvalid_0's multi_logloss: 1.09993\n",
      "[600]\tvalid_0's multi_logloss: 1.09958\n",
      "[700]\tvalid_0's multi_logloss: 1.09978\n",
      "Early stopping, best iteration is:\n",
      "[610]\tvalid_0's multi_logloss: 1.09955\n"
     ]
    },
    {
     "name": "stderr",
     "output_type": "stream",
     "text": [
      "regularization_factors, val_score: 1.099554:  95%|###################################1 | 19/20 [04:36<00:15, 15.58s/it]\u001b[32m[I 2021-05-19 21:06:23,913]\u001b[0m Trial 61 finished with value: 1.0995536460896063 and parameters: {'lambda_l1': 8.751573414850364, 'lambda_l2': 0.005505485947379311}. Best is trial 61 with value: 1.0995536460896063.\u001b[0m\n",
      "regularization_factors, val_score: 1.099554:  95%|###################################1 | 19/20 [04:36<00:15, 15.58s/it]"
     ]
    },
    {
     "name": "stdout",
     "output_type": "stream",
     "text": [
      "Training until validation scores don't improve for 100 rounds\n",
      "[100]\tvalid_0's multi_logloss: 1.1062\n",
      "[200]\tvalid_0's multi_logloss: 1.10232\n",
      "[300]\tvalid_0's multi_logloss: 1.10136\n",
      "[400]\tvalid_0's multi_logloss: 1.10131\n"
     ]
    },
    {
     "name": "stderr",
     "output_type": "stream",
     "text": [
      "regularization_factors, val_score: 1.099554: 100%|#####################################| 20/20 [04:46<00:00, 13.81s/it]\u001b[32m[I 2021-05-19 21:06:33,603]\u001b[0m Trial 62 finished with value: 1.1010116331162896 and parameters: {'lambda_l1': 0.14143897763930693, 'lambda_l2': 0.009483923608758478}. Best is trial 61 with value: 1.0995536460896063.\u001b[0m\n",
      "regularization_factors, val_score: 1.099554: 100%|#####################################| 20/20 [04:46<00:00, 14.30s/it]\n",
      "min_data_in_leaf, val_score: 1.099554:   0%|                                                     | 0/5 [00:00<?, ?it/s]"
     ]
    },
    {
     "name": "stdout",
     "output_type": "stream",
     "text": [
      "Early stopping, best iteration is:\n",
      "[349]\tvalid_0's multi_logloss: 1.10101\n",
      "Training until validation scores don't improve for 100 rounds\n",
      "[100]\tvalid_0's multi_logloss: 1.10642\n",
      "[200]\tvalid_0's multi_logloss: 1.10225\n",
      "[300]\tvalid_0's multi_logloss: 1.10083\n",
      "[400]\tvalid_0's multi_logloss: 1.10053\n",
      "[500]\tvalid_0's multi_logloss: 1.09994\n",
      "[600]\tvalid_0's multi_logloss: 1.09956\n",
      "[700]\tvalid_0's multi_logloss: 1.09978\n"
     ]
    },
    {
     "name": "stderr",
     "output_type": "stream",
     "text": [
      "min_data_in_leaf, val_score: 1.099516:  20%|#########                                    | 1/5 [00:15<01:02, 15.75s/it]\u001b[32m[I 2021-05-19 21:06:49,354]\u001b[0m Trial 63 finished with value: 1.0995163144366562 and parameters: {'min_child_samples': 10}. Best is trial 63 with value: 1.0995163144366562.\u001b[0m\n",
      "min_data_in_leaf, val_score: 1.099516:  20%|#########                                    | 1/5 [00:15<01:02, 15.75s/it]"
     ]
    },
    {
     "name": "stdout",
     "output_type": "stream",
     "text": [
      "Early stopping, best iteration is:\n",
      "[610]\tvalid_0's multi_logloss: 1.09952\n",
      "Training until validation scores don't improve for 100 rounds\n",
      "[100]\tvalid_0's multi_logloss: 1.10642\n",
      "[200]\tvalid_0's multi_logloss: 1.10225\n",
      "[300]\tvalid_0's multi_logloss: 1.10086\n",
      "[400]\tvalid_0's multi_logloss: 1.10049\n",
      "[500]\tvalid_0's multi_logloss: 1.09992\n",
      "[600]\tvalid_0's multi_logloss: 1.09974\n"
     ]
    },
    {
     "name": "stderr",
     "output_type": "stream",
     "text": [
      "min_data_in_leaf, val_score: 1.099516:  40%|##################                           | 2/5 [00:30<00:45, 15.19s/it]\u001b[32m[I 2021-05-19 21:07:04,154]\u001b[0m Trial 64 finished with value: 1.0996692969622284 and parameters: {'min_child_samples': 25}. Best is trial 63 with value: 1.0995163144366562.\u001b[0m\n",
      "min_data_in_leaf, val_score: 1.099516:  40%|##################                           | 2/5 [00:30<00:45, 15.19s/it]"
     ]
    },
    {
     "name": "stdout",
     "output_type": "stream",
     "text": [
      "Early stopping, best iteration is:\n",
      "[528]\tvalid_0's multi_logloss: 1.09967\n",
      "Training until validation scores don't improve for 100 rounds\n",
      "[100]\tvalid_0's multi_logloss: 1.10642\n",
      "[200]\tvalid_0's multi_logloss: 1.10225\n",
      "[300]\tvalid_0's multi_logloss: 1.10083\n",
      "[400]\tvalid_0's multi_logloss: 1.10053\n",
      "[500]\tvalid_0's multi_logloss: 1.09993\n",
      "[600]\tvalid_0's multi_logloss: 1.09957\n",
      "[700]\tvalid_0's multi_logloss: 1.0998\n"
     ]
    },
    {
     "name": "stderr",
     "output_type": "stream",
     "text": [
      "min_data_in_leaf, val_score: 1.099490:  60%|###########################                  | 3/5 [00:48<00:32, 16.39s/it]\u001b[32m[I 2021-05-19 21:07:21,979]\u001b[0m Trial 65 finished with value: 1.099490174495621 and parameters: {'min_child_samples': 5}. Best is trial 65 with value: 1.099490174495621.\u001b[0m\n",
      "min_data_in_leaf, val_score: 1.099490:  60%|###########################                  | 3/5 [00:48<00:32, 16.39s/it]"
     ]
    },
    {
     "name": "stdout",
     "output_type": "stream",
     "text": [
      "Early stopping, best iteration is:\n",
      "[612]\tvalid_0's multi_logloss: 1.09949\n",
      "Training until validation scores don't improve for 100 rounds\n",
      "[100]\tvalid_0's multi_logloss: 1.10642\n",
      "[200]\tvalid_0's multi_logloss: 1.10237\n",
      "[300]\tvalid_0's multi_logloss: 1.1009\n",
      "[400]\tvalid_0's multi_logloss: 1.10056\n",
      "[500]\tvalid_0's multi_logloss: 1.10014\n",
      "[600]\tvalid_0's multi_logloss: 1.09983\n"
     ]
    },
    {
     "name": "stderr",
     "output_type": "stream",
     "text": [
      "min_data_in_leaf, val_score: 1.099490:  80%|####################################         | 4/5 [01:05<00:16, 16.55s/it]\u001b[32m[I 2021-05-19 21:07:38,779]\u001b[0m Trial 66 finished with value: 1.0998043581275763 and parameters: {'min_child_samples': 50}. Best is trial 65 with value: 1.099490174495621.\u001b[0m\n",
      "min_data_in_leaf, val_score: 1.099490:  80%|####################################         | 4/5 [01:05<00:16, 16.55s/it]"
     ]
    },
    {
     "name": "stdout",
     "output_type": "stream",
     "text": [
      "[700]\tvalid_0's multi_logloss: 1.10007\n",
      "Early stopping, best iteration is:\n",
      "[601]\tvalid_0's multi_logloss: 1.0998\n",
      "Training until validation scores don't improve for 100 rounds\n",
      "[100]\tvalid_0's multi_logloss: 1.10617\n",
      "[200]\tvalid_0's multi_logloss: 1.10221\n",
      "[300]\tvalid_0's multi_logloss: 1.1007\n",
      "[400]\tvalid_0's multi_logloss: 1.10038\n",
      "[500]\tvalid_0's multi_logloss: 1.09992\n",
      "[600]\tvalid_0's multi_logloss: 1.09964\n",
      "[700]\tvalid_0's multi_logloss: 1.09973\n"
     ]
    },
    {
     "name": "stderr",
     "output_type": "stream",
     "text": [
      "min_data_in_leaf, val_score: 1.099490: 100%|#############################################| 5/5 [01:22<00:00, 16.88s/it]\u001b[32m[I 2021-05-19 21:07:56,249]\u001b[0m Trial 67 finished with value: 1.0995873214738618 and parameters: {'min_child_samples': 100}. Best is trial 65 with value: 1.099490174495621.\u001b[0m\n",
      "min_data_in_leaf, val_score: 1.099490: 100%|#############################################| 5/5 [01:22<00:00, 16.53s/it]"
     ]
    },
    {
     "name": "stdout",
     "output_type": "stream",
     "text": [
      "Early stopping, best iteration is:\n",
      "[612]\tvalid_0's multi_logloss: 1.09959\n"
     ]
    },
    {
     "name": "stderr",
     "output_type": "stream",
     "text": [
      "\n"
     ]
    }
   ],
   "source": [
    "import optuna.integration.lightgbm as lgb\n",
    "dtrain = lgb.Dataset(xtrain, label = ytrain)\n",
    "dtest = lgb.Dataset(xtest, label = ytest)\n",
    "params = {'objective' : 'multiclass', 'num_class' : 4,  'metric' : 'multi_logloss', 'verbosity' : -1, 'boosting_type' : 'gbdt'}\n",
    "model = lgb.train(params, dtrain, valid_sets = [dtest], verbose_eval = 100, early_stopping_rounds = 100)"
   ]
  },
  {
   "cell_type": "code",
   "execution_count": 6,
   "id": "dfa80417",
   "metadata": {},
   "outputs": [
    {
     "data": {
      "text/plain": [
       "{'objective': 'multiclass',\n",
       " 'num_class': 4,\n",
       " 'metric': 'multi_logloss',\n",
       " 'verbosity': -1,\n",
       " 'boosting_type': 'gbdt',\n",
       " 'feature_pre_filter': False,\n",
       " 'lambda_l1': 8.751573414850364,\n",
       " 'lambda_l2': 0.005505485947379311,\n",
       " 'num_leaves': 4,\n",
       " 'feature_fraction': 0.45199999999999996,\n",
       " 'bagging_fraction': 0.6867987886474038,\n",
       " 'bagging_freq': 3,\n",
       " 'min_child_samples': 5,\n",
       " 'num_iterations': 1000,\n",
       " 'early_stopping_round': 100}"
      ]
     },
     "execution_count": 6,
     "metadata": {},
     "output_type": "execute_result"
    }
   ],
   "source": [
    "params = model.params\n",
    "params"
   ]
  },
  {
   "cell_type": "code",
   "execution_count": 7,
   "id": "0e395402",
   "metadata": {},
   "outputs": [],
   "source": [
    "from lightgbm import LGBMClassifier\n",
    "model = LGBMClassifier(**params)"
   ]
  },
  {
   "cell_type": "code",
   "execution_count": 8,
   "id": "dde9232c",
   "metadata": {},
   "outputs": [
    {
     "name": "stderr",
     "output_type": "stream",
     "text": [
      "c:\\python39\\lib\\site-packages\\lightgbm\\engine.py:148: UserWarning: Found `num_iterations` in params. Will use it instead of argument\n",
      "  _log_warning(\"Found `{}` in params. Will use it instead of argument\".format(alias))\n",
      "c:\\python39\\lib\\site-packages\\lightgbm\\engine.py:153: UserWarning: Found `early_stopping_round` in params. Will use it instead of argument\n",
      "  _log_warning(\"Found `{}` in params. Will use it instead of argument\".format(alias))\n"
     ]
    },
    {
     "data": {
      "text/plain": [
       "LGBMClassifier(bagging_fraction=0.6867987886474038, bagging_freq=3,\n",
       "               early_stopping_round=100, feature_fraction=0.45199999999999996,\n",
       "               feature_pre_filter=False, lambda_l1=8.751573414850364,\n",
       "               lambda_l2=0.005505485947379311, metric='multi_logloss',\n",
       "               min_child_samples=5, num_class=4, num_iterations=1000,\n",
       "               num_leaves=4, objective='multiclass', verbosity=-1)"
      ]
     },
     "execution_count": 8,
     "metadata": {},
     "output_type": "execute_result"
    }
   ],
   "source": [
    "model.fit(xtrain, ytrain, eval_set = ((xtest, ytest)), early_stopping_rounds = 50, verbose = 0)"
   ]
  },
  {
   "cell_type": "code",
   "execution_count": 11,
   "id": "d1d0dd60",
   "metadata": {},
   "outputs": [],
   "source": [
    "sub['id'] = test['id']"
   ]
  },
  {
   "cell_type": "code",
   "execution_count": 12,
   "id": "5fdf9536",
   "metadata": {},
   "outputs": [],
   "source": [
    "test = test.drop(columns = ['id'])"
   ]
  },
  {
   "cell_type": "code",
   "execution_count": 13,
   "id": "4f02cec3",
   "metadata": {},
   "outputs": [],
   "source": [
    "preds = model.predict_proba(test)"
   ]
  },
  {
   "cell_type": "code",
   "execution_count": 14,
   "id": "c3e2fe74",
   "metadata": {},
   "outputs": [
    {
     "data": {
      "text/html": [
       "<div>\n",
       "<style scoped>\n",
       "    .dataframe tbody tr th:only-of-type {\n",
       "        vertical-align: middle;\n",
       "    }\n",
       "\n",
       "    .dataframe tbody tr th {\n",
       "        vertical-align: top;\n",
       "    }\n",
       "\n",
       "    .dataframe thead th {\n",
       "        text-align: right;\n",
       "    }\n",
       "</style>\n",
       "<table border=\"1\" class=\"dataframe\">\n",
       "  <thead>\n",
       "    <tr style=\"text-align: right;\">\n",
       "      <th></th>\n",
       "      <th>id</th>\n",
       "      <th>Class_1</th>\n",
       "      <th>Class_2</th>\n",
       "      <th>Class_3</th>\n",
       "      <th>Class_4</th>\n",
       "    </tr>\n",
       "  </thead>\n",
       "  <tbody>\n",
       "    <tr>\n",
       "      <th>0</th>\n",
       "      <td>100000</td>\n",
       "      <td>0.096418</td>\n",
       "      <td>0.615364</td>\n",
       "      <td>0.171004</td>\n",
       "      <td>0.117214</td>\n",
       "    </tr>\n",
       "    <tr>\n",
       "      <th>1</th>\n",
       "      <td>100001</td>\n",
       "      <td>0.086713</td>\n",
       "      <td>0.702807</td>\n",
       "      <td>0.126990</td>\n",
       "      <td>0.083490</td>\n",
       "    </tr>\n",
       "    <tr>\n",
       "      <th>2</th>\n",
       "      <td>100002</td>\n",
       "      <td>0.085859</td>\n",
       "      <td>0.643714</td>\n",
       "      <td>0.165490</td>\n",
       "      <td>0.104938</td>\n",
       "    </tr>\n",
       "    <tr>\n",
       "      <th>3</th>\n",
       "      <td>100003</td>\n",
       "      <td>0.079288</td>\n",
       "      <td>0.551645</td>\n",
       "      <td>0.290592</td>\n",
       "      <td>0.078475</td>\n",
       "    </tr>\n",
       "    <tr>\n",
       "      <th>4</th>\n",
       "      <td>100004</td>\n",
       "      <td>0.071128</td>\n",
       "      <td>0.628596</td>\n",
       "      <td>0.198466</td>\n",
       "      <td>0.101811</td>\n",
       "    </tr>\n",
       "  </tbody>\n",
       "</table>\n",
       "</div>"
      ],
      "text/plain": [
       "       id   Class_1   Class_2   Class_3   Class_4\n",
       "0  100000  0.096418  0.615364  0.171004  0.117214\n",
       "1  100001  0.086713  0.702807  0.126990  0.083490\n",
       "2  100002  0.085859  0.643714  0.165490  0.104938\n",
       "3  100003  0.079288  0.551645  0.290592  0.078475\n",
       "4  100004  0.071128  0.628596  0.198466  0.101811"
      ]
     },
     "execution_count": 14,
     "metadata": {},
     "output_type": "execute_result"
    }
   ],
   "source": [
    "sub['Class_1']=preds[:,0]\n",
    "sub['Class_2']=preds[:,1]\n",
    "sub['Class_3']=preds[:,2]\n",
    "sub['Class_4']=preds[:,3]\n",
    "sub.head()"
   ]
  },
  {
   "cell_type": "code",
   "execution_count": 15,
   "id": "7e4df44f",
   "metadata": {},
   "outputs": [
    {
     "data": {
      "text/html": [
       "<div>\n",
       "<style scoped>\n",
       "    .dataframe tbody tr th:only-of-type {\n",
       "        vertical-align: middle;\n",
       "    }\n",
       "\n",
       "    .dataframe tbody tr th {\n",
       "        vertical-align: top;\n",
       "    }\n",
       "\n",
       "    .dataframe thead th {\n",
       "        text-align: right;\n",
       "    }\n",
       "</style>\n",
       "<table border=\"1\" class=\"dataframe\">\n",
       "  <thead>\n",
       "    <tr style=\"text-align: right;\">\n",
       "      <th></th>\n",
       "      <th>id</th>\n",
       "      <th>Class_1</th>\n",
       "      <th>Class_2</th>\n",
       "      <th>Class_3</th>\n",
       "      <th>Class_4</th>\n",
       "    </tr>\n",
       "  </thead>\n",
       "  <tbody>\n",
       "    <tr>\n",
       "      <th>0</th>\n",
       "      <td>100000</td>\n",
       "      <td>0.096418</td>\n",
       "      <td>0.615364</td>\n",
       "      <td>0.171004</td>\n",
       "      <td>0.117214</td>\n",
       "    </tr>\n",
       "    <tr>\n",
       "      <th>1</th>\n",
       "      <td>100001</td>\n",
       "      <td>0.086713</td>\n",
       "      <td>0.702807</td>\n",
       "      <td>0.126990</td>\n",
       "      <td>0.083490</td>\n",
       "    </tr>\n",
       "    <tr>\n",
       "      <th>2</th>\n",
       "      <td>100002</td>\n",
       "      <td>0.085859</td>\n",
       "      <td>0.643714</td>\n",
       "      <td>0.165490</td>\n",
       "      <td>0.104938</td>\n",
       "    </tr>\n",
       "    <tr>\n",
       "      <th>3</th>\n",
       "      <td>100003</td>\n",
       "      <td>0.079288</td>\n",
       "      <td>0.551645</td>\n",
       "      <td>0.290592</td>\n",
       "      <td>0.078475</td>\n",
       "    </tr>\n",
       "    <tr>\n",
       "      <th>4</th>\n",
       "      <td>100004</td>\n",
       "      <td>0.071128</td>\n",
       "      <td>0.628596</td>\n",
       "      <td>0.198466</td>\n",
       "      <td>0.101811</td>\n",
       "    </tr>\n",
       "  </tbody>\n",
       "</table>\n",
       "</div>"
      ],
      "text/plain": [
       "       id   Class_1   Class_2   Class_3   Class_4\n",
       "0  100000  0.096418  0.615364  0.171004  0.117214\n",
       "1  100001  0.086713  0.702807  0.126990  0.083490\n",
       "2  100002  0.085859  0.643714  0.165490  0.104938\n",
       "3  100003  0.079288  0.551645  0.290592  0.078475\n",
       "4  100004  0.071128  0.628596  0.198466  0.101811"
      ]
     },
     "execution_count": 15,
     "metadata": {},
     "output_type": "execute_result"
    }
   ],
   "source": [
    "sub.to_csv('Submission.csv', index = False)\n",
    "sub.head()"
   ]
  }
 ],
 "metadata": {
  "kernelspec": {
   "display_name": "Python 3",
   "language": "python",
   "name": "python3"
  },
  "language_info": {
   "codemirror_mode": {
    "name": "ipython",
    "version": 3
   },
   "file_extension": ".py",
   "mimetype": "text/x-python",
   "name": "python",
   "nbconvert_exporter": "python",
   "pygments_lexer": "ipython3",
   "version": "3.9.2"
  },
  "toc": {
   "base_numbering": 1,
   "nav_menu": {},
   "number_sections": true,
   "sideBar": true,
   "skip_h1_title": false,
   "title_cell": "Table of Contents",
   "title_sidebar": "Contents",
   "toc_cell": false,
   "toc_position": {},
   "toc_section_display": true,
   "toc_window_display": false
  }
 },
 "nbformat": 4,
 "nbformat_minor": 5
}
