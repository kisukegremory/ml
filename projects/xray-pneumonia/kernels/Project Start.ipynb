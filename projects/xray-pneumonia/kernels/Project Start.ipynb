{
 "cells": [
  {
   "cell_type": "code",
   "execution_count": 4,
   "id": "5d00e2db",
   "metadata": {},
   "outputs": [],
   "source": [
    "from PIL import Image\n",
    "import os\n",
    "import numpy as np"
   ]
  },
  {
   "cell_type": "code",
   "execution_count": 1,
   "id": "395965c9",
   "metadata": {},
   "outputs": [
    {
     "name": "stdout",
     "output_type": "stream",
     "text": [
      "Num GPUs Available:  1\n"
     ]
    }
   ],
   "source": [
    "import tensorflow as tf\n",
    "print(\"Num GPUs Available: \", len(tf.config.list_physical_devices('GPU')))"
   ]
  },
  {
   "cell_type": "code",
   "execution_count": 2,
   "id": "084e7fb8",
   "metadata": {},
   "outputs": [
    {
     "data": {
      "text/plain": [
       "[PhysicalDevice(name='/physical_device:GPU:0', device_type='GPU')]"
      ]
     },
     "execution_count": 2,
     "metadata": {},
     "output_type": "execute_result"
    }
   ],
   "source": [
    "gpus = tf.config.list_physical_devices('GPU')\n",
    "gpus"
   ]
  },
  {
   "cell_type": "code",
   "execution_count": 3,
   "id": "2e4a44c4",
   "metadata": {},
   "outputs": [],
   "source": [
    "labels = {\n",
    "    \"PNEUMONIA\":1,\n",
    "    \"NORMAL\":0\n",
    "}\n",
    "img_x, img_y = 256,256"
   ]
  },
  {
   "cell_type": "markdown",
   "id": "ccf98a7c",
   "metadata": {},
   "source": [
    "# Dataset Creation"
   ]
  },
  {
   "cell_type": "code",
   "execution_count": 5,
   "id": "da836541",
   "metadata": {},
   "outputs": [],
   "source": [
    "train_path = \"../data/train/\"\n",
    "X_train = []\n",
    "y_train = []\n",
    "for label_name,label in labels.items():\n",
    "    path = f\"../data/train/{label_name}/\"\n",
    "    dir_list = os.listdir(path)\n",
    "    y_train.append(np.full(len(dir_list),label))\n",
    "    for img_name in dir_list:\n",
    "        im = Image.open((path+img_name)).convert('L')\n",
    "        im = im.resize((img_x, img_y))\n",
    "        im = np.array(im)\n",
    "        X_train.append(im)\n",
    "y_train = np.hstack([y_train[0],y_train[1]])\n",
    "X_train = np.array(X_train)"
   ]
  },
  {
   "cell_type": "code",
   "execution_count": 28,
   "id": "730bb5d8",
   "metadata": {},
   "outputs": [],
   "source": [
    "test_path = \"../data/test/\"\n",
    "X_test = []\n",
    "y_test = []\n",
    "for label_name,label in labels.items():\n",
    "    path = f\"../data/test/{label_name}/\"\n",
    "    dir_list = os.listdir(path)\n",
    "    y_test.append(np.full(len(dir_list),label))\n",
    "    for img_name in dir_list:\n",
    "        im = Image.open((path+img_name)).convert('L')\n",
    "        im = im.resize((img_x, img_y))\n",
    "        im = np.array(im)\n",
    "        X_test.append(im)\n",
    "y_test = np.hstack([y_test[0],y_test[1]])\n",
    "X_test = np.array(X_test)"
   ]
  },
  {
   "cell_type": "code",
   "execution_count": 29,
   "id": "59575b41",
   "metadata": {},
   "outputs": [],
   "source": [
    "from sklearn.utils import shuffle\n",
    "X_train,y_train = shuffle(X_train,y_train, random_state=0)\n",
    "X_train = X_train/255\n",
    "\n",
    "X_test,y_test = shuffle(X_test,y_test, random_state=0)\n",
    "X_test = X_test/255"
   ]
  },
  {
   "cell_type": "code",
   "execution_count": 45,
   "id": "5754a32e",
   "metadata": {},
   "outputs": [
    {
     "data": {
      "text/plain": [
       "(5216, 256, 256)"
      ]
     },
     "execution_count": 45,
     "metadata": {},
     "output_type": "execute_result"
    }
   ],
   "source": [
    "X_train.shape"
   ]
  },
  {
   "cell_type": "markdown",
   "id": "1e4767d8",
   "metadata": {},
   "source": [
    "# Modelin"
   ]
  },
  {
   "cell_type": "code",
   "execution_count": 41,
   "id": "59b1ce00",
   "metadata": {},
   "outputs": [
    {
     "name": "stdout",
     "output_type": "stream",
     "text": [
      "Epoch 1/100\n",
      "163/163 [==============================] - 3s 16ms/step - loss: 0.9386 - accuracy: 0.8754 - val_loss: 0.7806 - val_accuracy: 0.8173\n",
      "Epoch 2/100\n",
      "163/163 [==============================] - 2s 12ms/step - loss: 0.3863 - accuracy: 0.9158 - val_loss: 1.8427 - val_accuracy: 0.7308\n",
      "Epoch 3/100\n",
      "163/163 [==============================] - 2s 13ms/step - loss: 0.3824 - accuracy: 0.9191 - val_loss: 2.8314 - val_accuracy: 0.6875\n",
      "Epoch 4/100\n",
      "163/163 [==============================] - 2s 13ms/step - loss: 0.1965 - accuracy: 0.9415 - val_loss: 0.9227 - val_accuracy: 0.799780 \n",
      "Epoch 5/100\n",
      "163/163 [==============================] - 2s 13ms/step - loss: 0.2482 - accuracy: 0.9358 - val_loss: 1.6900 - val_accuracy: 0.7292\n",
      "Epoch 6/100\n",
      "163/163 [==============================] - 2s 15ms/step - loss: 0.2491 - accuracy: 0.9346 - val_loss: 1.0752 - val_accuracy: 0.7933\n",
      "Epoch 7/100\n",
      "163/163 [==============================] - 2s 12ms/step - loss: 0.2277 - accuracy: 0.9365 - val_loss: 0.9887 - val_accuracy: 0.7837\n",
      "Epoch 8/100\n",
      "163/163 [==============================] - 2s 12ms/step - loss: 0.1507 - accuracy: 0.9480 - val_loss: 0.7794 - val_accuracy: 0.8029\n",
      "Epoch 9/100\n",
      "163/163 [==============================] - 2s 12ms/step - loss: 0.1453 - accuracy: 0.9538 - val_loss: 3.4989 - val_accuracy: 0.6410\n",
      "Epoch 10/100\n",
      "163/163 [==============================] - 2s 12ms/step - loss: 0.1463 - accuracy: 0.9525 - val_loss: 1.6186 - val_accuracy: 0.7083\n",
      "Epoch 11/100\n",
      "163/163 [==============================] - 2s 12ms/step - loss: 0.1116 - accuracy: 0.9594 - val_loss: 1.1256 - val_accuracy: 0.7596\n",
      "Epoch 12/100\n",
      "163/163 [==============================] - 2s 14ms/step - loss: 0.1479 - accuracy: 0.9509 - val_loss: 1.0236 - val_accuracy: 0.7772\n",
      "Epoch 13/100\n",
      "163/163 [==============================] - 2s 13ms/step - loss: 0.1484 - accuracy: 0.9486 - val_loss: 1.0808 - val_accuracy: 0.7628\n",
      "Epoch 14/100\n",
      "163/163 [==============================] - 2s 13ms/step - loss: 0.1140 - accuracy: 0.9567 - val_loss: 0.6077 - val_accuracy: 0.8109\n",
      "Epoch 15/100\n",
      "163/163 [==============================] - 2s 12ms/step - loss: 0.0931 - accuracy: 0.9659 - val_loss: 1.7558 - val_accuracy: 0.7003\n",
      "Epoch 16/100\n",
      "163/163 [==============================] - 2s 13ms/step - loss: 0.0880 - accuracy: 0.9678 - val_loss: 1.6675 - val_accuracy: 0.7051\n",
      "Epoch 17/100\n",
      "163/163 [==============================] - 2s 13ms/step - loss: 0.1090 - accuracy: 0.9572 - val_loss: 1.0751 - val_accuracy: 0.7372\n",
      "Epoch 18/100\n",
      "163/163 [==============================] - 2s 13ms/step - loss: 0.1013 - accuracy: 0.9640 - val_loss: 1.9066 - val_accuracy: 0.6843\n",
      "Epoch 19/100\n",
      "163/163 [==============================] - 2s 13ms/step - loss: 0.1935 - accuracy: 0.9362 - val_loss: 0.5391 - val_accuracy: 0.8061\n",
      "Epoch 20/100\n",
      "163/163 [==============================] - 2s 12ms/step - loss: 0.0854 - accuracy: 0.9668 - val_loss: 1.1824 - val_accuracy: 0.7035\n",
      "Epoch 21/100\n",
      "163/163 [==============================] - 2s 15ms/step - loss: 0.1050 - accuracy: 0.9563 - val_loss: 0.8559 - val_accuracy: 0.7548\n",
      "Epoch 22/100\n",
      "163/163 [==============================] - 2s 14ms/step - loss: 0.1009 - accuracy: 0.9594 - val_loss: 0.4015 - val_accuracy: 0.8365\n",
      "Epoch 23/100\n",
      "163/163 [==============================] - 2s 13ms/step - loss: 0.1083 - accuracy: 0.9613 - val_loss: 0.6541 - val_accuracy: 0.7885\n",
      "Epoch 24/100\n",
      "163/163 [==============================] - 2s 13ms/step - loss: 0.0860 - accuracy: 0.9676 - val_loss: 0.8764 - val_accuracy: 0.7660\n",
      "Epoch 25/100\n",
      "163/163 [==============================] - 2s 13ms/step - loss: 0.0794 - accuracy: 0.9695 - val_loss: 1.3027 - val_accuracy: 0.7163 0s - l\n",
      "Epoch 26/100\n",
      "163/163 [==============================] - 2s 13ms/step - loss: 0.0927 - accuracy: 0.9649 - val_loss: 0.8335 - val_accuracy: 0.7756\n",
      "Epoch 27/100\n",
      "163/163 [==============================] - 2s 13ms/step - loss: 0.0799 - accuracy: 0.9712 - val_loss: 1.8668 - val_accuracy: 0.6779\n",
      "Epoch 28/100\n",
      "163/163 [==============================] - 2s 13ms/step - loss: 0.0981 - accuracy: 0.9626 - val_loss: 1.0976 - val_accuracy: 0.7340\n",
      "Epoch 29/100\n",
      "163/163 [==============================] - 3s 17ms/step - loss: 0.0944 - accuracy: 0.9661 - val_loss: 0.9447 - val_accuracy: 0.7596\n",
      "Epoch 30/100\n",
      "163/163 [==============================] - 2s 15ms/step - loss: 0.0900 - accuracy: 0.9668 - val_loss: 0.6585 - val_accuracy: 0.7949\n"
     ]
    }
   ],
   "source": [
    "from tensorflow import keras\n",
    "\n",
    "modelo = keras.Sequential([ \n",
    "    keras.layers.Flatten(input_shape=(img_x, img_y)),\n",
    "    keras.layers.Dense(64, activation=tf.nn.relu),\n",
    "    keras.layers.Dense(1, activation='sigmoid'),\n",
    "])\n",
    "\n",
    "call_back = tf.keras.callbacks.EarlyStopping(patience=8, restore_best_weights=True)\n",
    "\n",
    "modelo.compile(optimizer='adam', \n",
    "               loss='binary_crossentropy',\n",
    "               metrics=['accuracy'],\n",
    "              )\n",
    "\n",
    "historico = modelo.fit(X_train, y_train, epochs=100, callbacks=[call_back],validation_data=(X_test,y_test),workers=-1,use_multiprocessing=True)"
   ]
  },
  {
   "cell_type": "code",
   "execution_count": 38,
   "id": "ea9d7d41",
   "metadata": {},
   "outputs": [
    {
     "data": {
      "image/png": "[encoded data removed]",
      "text/plain": [
       "<Figure size 1152x360 with 1 Axes>"
      ]
     },
     "metadata": {
      "needs_background": "light"
     },
     "output_type": "display_data"
    }
   ],
   "source": [
    "import matplotlib.pyplot as plt\n",
    "plt.figure(figsize=(16,5))\n",
    "\n",
    "plt.plot(historico.history['accuracy'],label='treino')\n",
    "plt.plot(historico.history['val_accuracy'],label='validação')\n",
    "plt.grid(alpha=0.4)\n",
    "plt.legend()\n",
    "plt.show()"
   ]
  }
 ],
 "metadata": {
  "kernelspec": {
   "display_name": "Python 3",
   "language": "python",
   "name": "python3"
  },
  "language_info": {
   "codemirror_mode": {
    "name": "ipython",
    "version": 3
   },
   "file_extension": ".py",
   "mimetype": "text/x-python",
   "name": "python",
   "nbconvert_exporter": "python",
   "pygments_lexer": "ipython3",
   "version": "3.9.2"
  },
  "toc": {
   "base_numbering": 1,
   "nav_menu": {},
   "number_sections": true,
   "sideBar": true,
   "skip_h1_title": false,
   "title_cell": "Table of Contents",
   "title_sidebar": "Contents",
   "toc_cell": false,
   "toc_position": {},
   "toc_section_display": true,
   "toc_window_display": false
  }
 },
 "nbformat": 4,
 "nbformat_minor": 5
}
